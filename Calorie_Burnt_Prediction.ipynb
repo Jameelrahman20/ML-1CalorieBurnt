{
  "cells": [
    {
      "cell_type": "markdown",
      "source": [
        "Calorie Burnt Prediction\n",
        "\n",
        "Importing the Modules"
      ],
      "metadata": {
        "id": "8bIwgHjyvtna"
      },
      "id": "8bIwgHjyvtna"
    },
    {
      "cell_type": "code",
      "source": [
        "import numpy as np\n",
        "import pandas as pd\n",
        "import matplotlib.pyplot as plt\n",
        "import seaborn as sns\n",
        "from sklearn.model_selection import train_test_split\n",
        "from xgboost import XGBRegressor\n",
        "from sklearn.metrics import accuracy_score\n",
        "from sklearn.metrics import mean_squared_error\n",
        "from sklearn.model_selection import cross_val_score\n"
      ],
      "metadata": {
        "id": "wupMcwVav9ip"
      },
      "id": "wupMcwVav9ip",
      "execution_count": 67,
      "outputs": []
    },
    {
      "cell_type": "markdown",
      "source": [
        "Data Collection & Processing"
      ],
      "metadata": {
        "id": "QTVjvLrywMlw"
      },
      "id": "QTVjvLrywMlw"
    },
    {
      "cell_type": "code",
      "source": [
        "#Loading the data from csv file to a Pandas DataFrame\n",
        "\n",
        "calories = pd.read_csv('/content/calories.csv')"
      ],
      "metadata": {
        "id": "cl8QuVCNwOS5"
      },
      "id": "cl8QuVCNwOS5",
      "execution_count": 68,
      "outputs": []
    },
    {
      "cell_type": "code",
      "source": [
        "#Print the first 5 rows of the dataframe\n",
        "\n",
        "calories.head()"
      ],
      "metadata": {
        "colab": {
          "base_uri": "https://localhost:8080/",
          "height": 206
        },
        "id": "idZ6Z5rKwrfL",
        "outputId": "928ddaa2-9177-4d56-b1f1-16b82f87cac5"
      },
      "id": "idZ6Z5rKwrfL",
      "execution_count": 69,
      "outputs": [
        {
          "output_type": "execute_result",
          "data": {
            "text/plain": [
              "    User_ID  Calories\n",
              "0  14733363     231.0\n",
              "1  14861698      66.0\n",
              "2  11179863      26.0\n",
              "3  16180408      71.0\n",
              "4  17771927      35.0"
            ],
            "text/html": [
              "\n",
              "  <div id=\"df-176cbd07-598d-419d-870a-0d904bd1fc49\">\n",
              "    <div class=\"colab-df-container\">\n",
              "      <div>\n",
              "<style scoped>\n",
              "    .dataframe tbody tr th:only-of-type {\n",
              "        vertical-align: middle;\n",
              "    }\n",
              "\n",
              "    .dataframe tbody tr th {\n",
              "        vertical-align: top;\n",
              "    }\n",
              "\n",
              "    .dataframe thead th {\n",
              "        text-align: right;\n",
              "    }\n",
              "</style>\n",
              "<table border=\"1\" class=\"dataframe\">\n",
              "  <thead>\n",
              "    <tr style=\"text-align: right;\">\n",
              "      <th></th>\n",
              "      <th>User_ID</th>\n",
              "      <th>Calories</th>\n",
              "    </tr>\n",
              "  </thead>\n",
              "  <tbody>\n",
              "    <tr>\n",
              "      <th>0</th>\n",
              "      <td>14733363</td>\n",
              "      <td>231.0</td>\n",
              "    </tr>\n",
              "    <tr>\n",
              "      <th>1</th>\n",
              "      <td>14861698</td>\n",
              "      <td>66.0</td>\n",
              "    </tr>\n",
              "    <tr>\n",
              "      <th>2</th>\n",
              "      <td>11179863</td>\n",
              "      <td>26.0</td>\n",
              "    </tr>\n",
              "    <tr>\n",
              "      <th>3</th>\n",
              "      <td>16180408</td>\n",
              "      <td>71.0</td>\n",
              "    </tr>\n",
              "    <tr>\n",
              "      <th>4</th>\n",
              "      <td>17771927</td>\n",
              "      <td>35.0</td>\n",
              "    </tr>\n",
              "  </tbody>\n",
              "</table>\n",
              "</div>\n",
              "      <button class=\"colab-df-convert\" onclick=\"convertToInteractive('df-176cbd07-598d-419d-870a-0d904bd1fc49')\"\n",
              "              title=\"Convert this dataframe to an interactive table.\"\n",
              "              style=\"display:none;\">\n",
              "        \n",
              "  <svg xmlns=\"http://www.w3.org/2000/svg\" height=\"24px\"viewBox=\"0 0 24 24\"\n",
              "       width=\"24px\">\n",
              "    <path d=\"M0 0h24v24H0V0z\" fill=\"none\"/>\n",
              "    <path d=\"M18.56 5.44l.94 2.06.94-2.06 2.06-.94-2.06-.94-.94-2.06-.94 2.06-2.06.94zm-11 1L8.5 8.5l.94-2.06 2.06-.94-2.06-.94L8.5 2.5l-.94 2.06-2.06.94zm10 10l.94 2.06.94-2.06 2.06-.94-2.06-.94-.94-2.06-.94 2.06-2.06.94z\"/><path d=\"M17.41 7.96l-1.37-1.37c-.4-.4-.92-.59-1.43-.59-.52 0-1.04.2-1.43.59L10.3 9.45l-7.72 7.72c-.78.78-.78 2.05 0 2.83L4 21.41c.39.39.9.59 1.41.59.51 0 1.02-.2 1.41-.59l7.78-7.78 2.81-2.81c.8-.78.8-2.07 0-2.86zM5.41 20L4 18.59l7.72-7.72 1.47 1.35L5.41 20z\"/>\n",
              "  </svg>\n",
              "      </button>\n",
              "      \n",
              "  <style>\n",
              "    .colab-df-container {\n",
              "      display:flex;\n",
              "      flex-wrap:wrap;\n",
              "      gap: 12px;\n",
              "    }\n",
              "\n",
              "    .colab-df-convert {\n",
              "      background-color: #E8F0FE;\n",
              "      border: none;\n",
              "      border-radius: 50%;\n",
              "      cursor: pointer;\n",
              "      display: none;\n",
              "      fill: #1967D2;\n",
              "      height: 32px;\n",
              "      padding: 0 0 0 0;\n",
              "      width: 32px;\n",
              "    }\n",
              "\n",
              "    .colab-df-convert:hover {\n",
              "      background-color: #E2EBFA;\n",
              "      box-shadow: 0px 1px 2px rgba(60, 64, 67, 0.3), 0px 1px 3px 1px rgba(60, 64, 67, 0.15);\n",
              "      fill: #174EA6;\n",
              "    }\n",
              "\n",
              "    [theme=dark] .colab-df-convert {\n",
              "      background-color: #3B4455;\n",
              "      fill: #D2E3FC;\n",
              "    }\n",
              "\n",
              "    [theme=dark] .colab-df-convert:hover {\n",
              "      background-color: #434B5C;\n",
              "      box-shadow: 0px 1px 3px 1px rgba(0, 0, 0, 0.15);\n",
              "      filter: drop-shadow(0px 1px 2px rgba(0, 0, 0, 0.3));\n",
              "      fill: #FFFFFF;\n",
              "    }\n",
              "  </style>\n",
              "\n",
              "      <script>\n",
              "        const buttonEl =\n",
              "          document.querySelector('#df-176cbd07-598d-419d-870a-0d904bd1fc49 button.colab-df-convert');\n",
              "        buttonEl.style.display =\n",
              "          google.colab.kernel.accessAllowed ? 'block' : 'none';\n",
              "\n",
              "        async function convertToInteractive(key) {\n",
              "          const element = document.querySelector('#df-176cbd07-598d-419d-870a-0d904bd1fc49');\n",
              "          const dataTable =\n",
              "            await google.colab.kernel.invokeFunction('convertToInteractive',\n",
              "                                                     [key], {});\n",
              "          if (!dataTable) return;\n",
              "\n",
              "          const docLinkHtml = 'Like what you see? Visit the ' +\n",
              "            '<a target=\"_blank\" href=https://colab.research.google.com/notebooks/data_table.ipynb>data table notebook</a>'\n",
              "            + ' to learn more about interactive tables.';\n",
              "          element.innerHTML = '';\n",
              "          dataTable['output_type'] = 'display_data';\n",
              "          await google.colab.output.renderOutput(dataTable, element);\n",
              "          const docLink = document.createElement('div');\n",
              "          docLink.innerHTML = docLinkHtml;\n",
              "          element.appendChild(docLink);\n",
              "        }\n",
              "      </script>\n",
              "    </div>\n",
              "  </div>\n",
              "  "
            ]
          },
          "metadata": {},
          "execution_count": 69
        }
      ]
    },
    {
      "cell_type": "code",
      "source": [
        "exercise_data = pd.read_csv('/content/exercise.csv')"
      ],
      "metadata": {
        "id": "KuhwaDdKw4AL"
      },
      "id": "KuhwaDdKw4AL",
      "execution_count": 70,
      "outputs": []
    },
    {
      "cell_type": "code",
      "source": [
        "exercise_data.head()"
      ],
      "metadata": {
        "colab": {
          "base_uri": "https://localhost:8080/",
          "height": 206
        },
        "id": "PuJVO4YgxV-b",
        "outputId": "b1c67c13-257b-4401-e113-114f34515118"
      },
      "id": "PuJVO4YgxV-b",
      "execution_count": 71,
      "outputs": [
        {
          "output_type": "execute_result",
          "data": {
            "text/plain": [
              "    User_ID  Gender  Age  Height  Weight  Duration  Heart_Rate  Body_Temp\n",
              "0  14733363    male   68   190.0    94.0      29.0       105.0       40.8\n",
              "1  14861698  female   20   166.0    60.0      14.0        94.0       40.3\n",
              "2  11179863    male   69   179.0    79.0       5.0        88.0       38.7\n",
              "3  16180408  female   34   179.0    71.0      13.0       100.0       40.5\n",
              "4  17771927  female   27   154.0    58.0      10.0        81.0       39.8"
            ],
            "text/html": [
              "\n",
              "  <div id=\"df-8fda8357-6b09-494e-98e1-e00046330fc5\">\n",
              "    <div class=\"colab-df-container\">\n",
              "      <div>\n",
              "<style scoped>\n",
              "    .dataframe tbody tr th:only-of-type {\n",
              "        vertical-align: middle;\n",
              "    }\n",
              "\n",
              "    .dataframe tbody tr th {\n",
              "        vertical-align: top;\n",
              "    }\n",
              "\n",
              "    .dataframe thead th {\n",
              "        text-align: right;\n",
              "    }\n",
              "</style>\n",
              "<table border=\"1\" class=\"dataframe\">\n",
              "  <thead>\n",
              "    <tr style=\"text-align: right;\">\n",
              "      <th></th>\n",
              "      <th>User_ID</th>\n",
              "      <th>Gender</th>\n",
              "      <th>Age</th>\n",
              "      <th>Height</th>\n",
              "      <th>Weight</th>\n",
              "      <th>Duration</th>\n",
              "      <th>Heart_Rate</th>\n",
              "      <th>Body_Temp</th>\n",
              "    </tr>\n",
              "  </thead>\n",
              "  <tbody>\n",
              "    <tr>\n",
              "      <th>0</th>\n",
              "      <td>14733363</td>\n",
              "      <td>male</td>\n",
              "      <td>68</td>\n",
              "      <td>190.0</td>\n",
              "      <td>94.0</td>\n",
              "      <td>29.0</td>\n",
              "      <td>105.0</td>\n",
              "      <td>40.8</td>\n",
              "    </tr>\n",
              "    <tr>\n",
              "      <th>1</th>\n",
              "      <td>14861698</td>\n",
              "      <td>female</td>\n",
              "      <td>20</td>\n",
              "      <td>166.0</td>\n",
              "      <td>60.0</td>\n",
              "      <td>14.0</td>\n",
              "      <td>94.0</td>\n",
              "      <td>40.3</td>\n",
              "    </tr>\n",
              "    <tr>\n",
              "      <th>2</th>\n",
              "      <td>11179863</td>\n",
              "      <td>male</td>\n",
              "      <td>69</td>\n",
              "      <td>179.0</td>\n",
              "      <td>79.0</td>\n",
              "      <td>5.0</td>\n",
              "      <td>88.0</td>\n",
              "      <td>38.7</td>\n",
              "    </tr>\n",
              "    <tr>\n",
              "      <th>3</th>\n",
              "      <td>16180408</td>\n",
              "      <td>female</td>\n",
              "      <td>34</td>\n",
              "      <td>179.0</td>\n",
              "      <td>71.0</td>\n",
              "      <td>13.0</td>\n",
              "      <td>100.0</td>\n",
              "      <td>40.5</td>\n",
              "    </tr>\n",
              "    <tr>\n",
              "      <th>4</th>\n",
              "      <td>17771927</td>\n",
              "      <td>female</td>\n",
              "      <td>27</td>\n",
              "      <td>154.0</td>\n",
              "      <td>58.0</td>\n",
              "      <td>10.0</td>\n",
              "      <td>81.0</td>\n",
              "      <td>39.8</td>\n",
              "    </tr>\n",
              "  </tbody>\n",
              "</table>\n",
              "</div>\n",
              "      <button class=\"colab-df-convert\" onclick=\"convertToInteractive('df-8fda8357-6b09-494e-98e1-e00046330fc5')\"\n",
              "              title=\"Convert this dataframe to an interactive table.\"\n",
              "              style=\"display:none;\">\n",
              "        \n",
              "  <svg xmlns=\"http://www.w3.org/2000/svg\" height=\"24px\"viewBox=\"0 0 24 24\"\n",
              "       width=\"24px\">\n",
              "    <path d=\"M0 0h24v24H0V0z\" fill=\"none\"/>\n",
              "    <path d=\"M18.56 5.44l.94 2.06.94-2.06 2.06-.94-2.06-.94-.94-2.06-.94 2.06-2.06.94zm-11 1L8.5 8.5l.94-2.06 2.06-.94-2.06-.94L8.5 2.5l-.94 2.06-2.06.94zm10 10l.94 2.06.94-2.06 2.06-.94-2.06-.94-.94-2.06-.94 2.06-2.06.94z\"/><path d=\"M17.41 7.96l-1.37-1.37c-.4-.4-.92-.59-1.43-.59-.52 0-1.04.2-1.43.59L10.3 9.45l-7.72 7.72c-.78.78-.78 2.05 0 2.83L4 21.41c.39.39.9.59 1.41.59.51 0 1.02-.2 1.41-.59l7.78-7.78 2.81-2.81c.8-.78.8-2.07 0-2.86zM5.41 20L4 18.59l7.72-7.72 1.47 1.35L5.41 20z\"/>\n",
              "  </svg>\n",
              "      </button>\n",
              "      \n",
              "  <style>\n",
              "    .colab-df-container {\n",
              "      display:flex;\n",
              "      flex-wrap:wrap;\n",
              "      gap: 12px;\n",
              "    }\n",
              "\n",
              "    .colab-df-convert {\n",
              "      background-color: #E8F0FE;\n",
              "      border: none;\n",
              "      border-radius: 50%;\n",
              "      cursor: pointer;\n",
              "      display: none;\n",
              "      fill: #1967D2;\n",
              "      height: 32px;\n",
              "      padding: 0 0 0 0;\n",
              "      width: 32px;\n",
              "    }\n",
              "\n",
              "    .colab-df-convert:hover {\n",
              "      background-color: #E2EBFA;\n",
              "      box-shadow: 0px 1px 2px rgba(60, 64, 67, 0.3), 0px 1px 3px 1px rgba(60, 64, 67, 0.15);\n",
              "      fill: #174EA6;\n",
              "    }\n",
              "\n",
              "    [theme=dark] .colab-df-convert {\n",
              "      background-color: #3B4455;\n",
              "      fill: #D2E3FC;\n",
              "    }\n",
              "\n",
              "    [theme=dark] .colab-df-convert:hover {\n",
              "      background-color: #434B5C;\n",
              "      box-shadow: 0px 1px 3px 1px rgba(0, 0, 0, 0.15);\n",
              "      filter: drop-shadow(0px 1px 2px rgba(0, 0, 0, 0.3));\n",
              "      fill: #FFFFFF;\n",
              "    }\n",
              "  </style>\n",
              "\n",
              "      <script>\n",
              "        const buttonEl =\n",
              "          document.querySelector('#df-8fda8357-6b09-494e-98e1-e00046330fc5 button.colab-df-convert');\n",
              "        buttonEl.style.display =\n",
              "          google.colab.kernel.accessAllowed ? 'block' : 'none';\n",
              "\n",
              "        async function convertToInteractive(key) {\n",
              "          const element = document.querySelector('#df-8fda8357-6b09-494e-98e1-e00046330fc5');\n",
              "          const dataTable =\n",
              "            await google.colab.kernel.invokeFunction('convertToInteractive',\n",
              "                                                     [key], {});\n",
              "          if (!dataTable) return;\n",
              "\n",
              "          const docLinkHtml = 'Like what you see? Visit the ' +\n",
              "            '<a target=\"_blank\" href=https://colab.research.google.com/notebooks/data_table.ipynb>data table notebook</a>'\n",
              "            + ' to learn more about interactive tables.';\n",
              "          element.innerHTML = '';\n",
              "          dataTable['output_type'] = 'display_data';\n",
              "          await google.colab.output.renderOutput(dataTable, element);\n",
              "          const docLink = document.createElement('div');\n",
              "          docLink.innerHTML = docLinkHtml;\n",
              "          element.appendChild(docLink);\n",
              "        }\n",
              "      </script>\n",
              "    </div>\n",
              "  </div>\n",
              "  "
            ]
          },
          "metadata": {},
          "execution_count": 71
        }
      ]
    },
    {
      "cell_type": "markdown",
      "source": [
        "Combining the two Dataframes"
      ],
      "metadata": {
        "id": "dnIdJCjdxlyS"
      },
      "id": "dnIdJCjdxlyS"
    },
    {
      "cell_type": "code",
      "source": [
        "calories_ex= pd.concat([exercise_data, calories['Calories']], axis=1)"
      ],
      "metadata": {
        "id": "ryhI4qf4xo04"
      },
      "id": "ryhI4qf4xo04",
      "execution_count": 72,
      "outputs": []
    },
    {
      "cell_type": "code",
      "source": [
        "calories_ex.head()"
      ],
      "metadata": {
        "colab": {
          "base_uri": "https://localhost:8080/",
          "height": 206
        },
        "id": "6KH5txv4x7Ca",
        "outputId": "d6e5e42f-1545-41f4-ac73-dff401582a7c"
      },
      "id": "6KH5txv4x7Ca",
      "execution_count": 73,
      "outputs": [
        {
          "output_type": "execute_result",
          "data": {
            "text/plain": [
              "    User_ID  Gender  Age  Height  Weight  Duration  Heart_Rate  Body_Temp  \\\n",
              "0  14733363    male   68   190.0    94.0      29.0       105.0       40.8   \n",
              "1  14861698  female   20   166.0    60.0      14.0        94.0       40.3   \n",
              "2  11179863    male   69   179.0    79.0       5.0        88.0       38.7   \n",
              "3  16180408  female   34   179.0    71.0      13.0       100.0       40.5   \n",
              "4  17771927  female   27   154.0    58.0      10.0        81.0       39.8   \n",
              "\n",
              "   Calories  \n",
              "0     231.0  \n",
              "1      66.0  \n",
              "2      26.0  \n",
              "3      71.0  \n",
              "4      35.0  "
            ],
            "text/html": [
              "\n",
              "  <div id=\"df-30fe6b9d-b4a2-4633-9f2a-7a4f7858cdfd\">\n",
              "    <div class=\"colab-df-container\">\n",
              "      <div>\n",
              "<style scoped>\n",
              "    .dataframe tbody tr th:only-of-type {\n",
              "        vertical-align: middle;\n",
              "    }\n",
              "\n",
              "    .dataframe tbody tr th {\n",
              "        vertical-align: top;\n",
              "    }\n",
              "\n",
              "    .dataframe thead th {\n",
              "        text-align: right;\n",
              "    }\n",
              "</style>\n",
              "<table border=\"1\" class=\"dataframe\">\n",
              "  <thead>\n",
              "    <tr style=\"text-align: right;\">\n",
              "      <th></th>\n",
              "      <th>User_ID</th>\n",
              "      <th>Gender</th>\n",
              "      <th>Age</th>\n",
              "      <th>Height</th>\n",
              "      <th>Weight</th>\n",
              "      <th>Duration</th>\n",
              "      <th>Heart_Rate</th>\n",
              "      <th>Body_Temp</th>\n",
              "      <th>Calories</th>\n",
              "    </tr>\n",
              "  </thead>\n",
              "  <tbody>\n",
              "    <tr>\n",
              "      <th>0</th>\n",
              "      <td>14733363</td>\n",
              "      <td>male</td>\n",
              "      <td>68</td>\n",
              "      <td>190.0</td>\n",
              "      <td>94.0</td>\n",
              "      <td>29.0</td>\n",
              "      <td>105.0</td>\n",
              "      <td>40.8</td>\n",
              "      <td>231.0</td>\n",
              "    </tr>\n",
              "    <tr>\n",
              "      <th>1</th>\n",
              "      <td>14861698</td>\n",
              "      <td>female</td>\n",
              "      <td>20</td>\n",
              "      <td>166.0</td>\n",
              "      <td>60.0</td>\n",
              "      <td>14.0</td>\n",
              "      <td>94.0</td>\n",
              "      <td>40.3</td>\n",
              "      <td>66.0</td>\n",
              "    </tr>\n",
              "    <tr>\n",
              "      <th>2</th>\n",
              "      <td>11179863</td>\n",
              "      <td>male</td>\n",
              "      <td>69</td>\n",
              "      <td>179.0</td>\n",
              "      <td>79.0</td>\n",
              "      <td>5.0</td>\n",
              "      <td>88.0</td>\n",
              "      <td>38.7</td>\n",
              "      <td>26.0</td>\n",
              "    </tr>\n",
              "    <tr>\n",
              "      <th>3</th>\n",
              "      <td>16180408</td>\n",
              "      <td>female</td>\n",
              "      <td>34</td>\n",
              "      <td>179.0</td>\n",
              "      <td>71.0</td>\n",
              "      <td>13.0</td>\n",
              "      <td>100.0</td>\n",
              "      <td>40.5</td>\n",
              "      <td>71.0</td>\n",
              "    </tr>\n",
              "    <tr>\n",
              "      <th>4</th>\n",
              "      <td>17771927</td>\n",
              "      <td>female</td>\n",
              "      <td>27</td>\n",
              "      <td>154.0</td>\n",
              "      <td>58.0</td>\n",
              "      <td>10.0</td>\n",
              "      <td>81.0</td>\n",
              "      <td>39.8</td>\n",
              "      <td>35.0</td>\n",
              "    </tr>\n",
              "  </tbody>\n",
              "</table>\n",
              "</div>\n",
              "      <button class=\"colab-df-convert\" onclick=\"convertToInteractive('df-30fe6b9d-b4a2-4633-9f2a-7a4f7858cdfd')\"\n",
              "              title=\"Convert this dataframe to an interactive table.\"\n",
              "              style=\"display:none;\">\n",
              "        \n",
              "  <svg xmlns=\"http://www.w3.org/2000/svg\" height=\"24px\"viewBox=\"0 0 24 24\"\n",
              "       width=\"24px\">\n",
              "    <path d=\"M0 0h24v24H0V0z\" fill=\"none\"/>\n",
              "    <path d=\"M18.56 5.44l.94 2.06.94-2.06 2.06-.94-2.06-.94-.94-2.06-.94 2.06-2.06.94zm-11 1L8.5 8.5l.94-2.06 2.06-.94-2.06-.94L8.5 2.5l-.94 2.06-2.06.94zm10 10l.94 2.06.94-2.06 2.06-.94-2.06-.94-.94-2.06-.94 2.06-2.06.94z\"/><path d=\"M17.41 7.96l-1.37-1.37c-.4-.4-.92-.59-1.43-.59-.52 0-1.04.2-1.43.59L10.3 9.45l-7.72 7.72c-.78.78-.78 2.05 0 2.83L4 21.41c.39.39.9.59 1.41.59.51 0 1.02-.2 1.41-.59l7.78-7.78 2.81-2.81c.8-.78.8-2.07 0-2.86zM5.41 20L4 18.59l7.72-7.72 1.47 1.35L5.41 20z\"/>\n",
              "  </svg>\n",
              "      </button>\n",
              "      \n",
              "  <style>\n",
              "    .colab-df-container {\n",
              "      display:flex;\n",
              "      flex-wrap:wrap;\n",
              "      gap: 12px;\n",
              "    }\n",
              "\n",
              "    .colab-df-convert {\n",
              "      background-color: #E8F0FE;\n",
              "      border: none;\n",
              "      border-radius: 50%;\n",
              "      cursor: pointer;\n",
              "      display: none;\n",
              "      fill: #1967D2;\n",
              "      height: 32px;\n",
              "      padding: 0 0 0 0;\n",
              "      width: 32px;\n",
              "    }\n",
              "\n",
              "    .colab-df-convert:hover {\n",
              "      background-color: #E2EBFA;\n",
              "      box-shadow: 0px 1px 2px rgba(60, 64, 67, 0.3), 0px 1px 3px 1px rgba(60, 64, 67, 0.15);\n",
              "      fill: #174EA6;\n",
              "    }\n",
              "\n",
              "    [theme=dark] .colab-df-convert {\n",
              "      background-color: #3B4455;\n",
              "      fill: #D2E3FC;\n",
              "    }\n",
              "\n",
              "    [theme=dark] .colab-df-convert:hover {\n",
              "      background-color: #434B5C;\n",
              "      box-shadow: 0px 1px 3px 1px rgba(0, 0, 0, 0.15);\n",
              "      filter: drop-shadow(0px 1px 2px rgba(0, 0, 0, 0.3));\n",
              "      fill: #FFFFFF;\n",
              "    }\n",
              "  </style>\n",
              "\n",
              "      <script>\n",
              "        const buttonEl =\n",
              "          document.querySelector('#df-30fe6b9d-b4a2-4633-9f2a-7a4f7858cdfd button.colab-df-convert');\n",
              "        buttonEl.style.display =\n",
              "          google.colab.kernel.accessAllowed ? 'block' : 'none';\n",
              "\n",
              "        async function convertToInteractive(key) {\n",
              "          const element = document.querySelector('#df-30fe6b9d-b4a2-4633-9f2a-7a4f7858cdfd');\n",
              "          const dataTable =\n",
              "            await google.colab.kernel.invokeFunction('convertToInteractive',\n",
              "                                                     [key], {});\n",
              "          if (!dataTable) return;\n",
              "\n",
              "          const docLinkHtml = 'Like what you see? Visit the ' +\n",
              "            '<a target=\"_blank\" href=https://colab.research.google.com/notebooks/data_table.ipynb>data table notebook</a>'\n",
              "            + ' to learn more about interactive tables.';\n",
              "          element.innerHTML = '';\n",
              "          dataTable['output_type'] = 'display_data';\n",
              "          await google.colab.output.renderOutput(dataTable, element);\n",
              "          const docLink = document.createElement('div');\n",
              "          docLink.innerHTML = docLinkHtml;\n",
              "          element.appendChild(docLink);\n",
              "        }\n",
              "      </script>\n",
              "    </div>\n",
              "  </div>\n",
              "  "
            ]
          },
          "metadata": {},
          "execution_count": 73
        }
      ]
    },
    {
      "cell_type": "code",
      "source": [
        "#Checking the number of rows and columns\n",
        "\n",
        "calories_ex.shape"
      ],
      "metadata": {
        "colab": {
          "base_uri": "https://localhost:8080/"
        },
        "id": "SNh1mAC0x933",
        "outputId": "9c87f1a0-80f8-49fb-ba33-229090eb0478"
      },
      "id": "SNh1mAC0x933",
      "execution_count": 74,
      "outputs": [
        {
          "output_type": "execute_result",
          "data": {
            "text/plain": [
              "(15000, 9)"
            ]
          },
          "metadata": {},
          "execution_count": 74
        }
      ]
    },
    {
      "cell_type": "code",
      "source": [
        "#Getting some informations about the data\n",
        "\n",
        "calories_ex.info()"
      ],
      "metadata": {
        "colab": {
          "base_uri": "https://localhost:8080/"
        },
        "id": "ZeNvhNOgyjpB",
        "outputId": "9e2850ab-cf06-4d99-ee4d-7d373d1b2820"
      },
      "id": "ZeNvhNOgyjpB",
      "execution_count": 75,
      "outputs": [
        {
          "output_type": "stream",
          "name": "stdout",
          "text": [
            "<class 'pandas.core.frame.DataFrame'>\n",
            "RangeIndex: 15000 entries, 0 to 14999\n",
            "Data columns (total 9 columns):\n",
            " #   Column      Non-Null Count  Dtype  \n",
            "---  ------      --------------  -----  \n",
            " 0   User_ID     15000 non-null  int64  \n",
            " 1   Gender      15000 non-null  object \n",
            " 2   Age         15000 non-null  int64  \n",
            " 3   Height      15000 non-null  float64\n",
            " 4   Weight      15000 non-null  float64\n",
            " 5   Duration    15000 non-null  float64\n",
            " 6   Heart_Rate  15000 non-null  float64\n",
            " 7   Body_Temp   15000 non-null  float64\n",
            " 8   Calories    15000 non-null  float64\n",
            "dtypes: float64(6), int64(2), object(1)\n",
            "memory usage: 1.0+ MB\n"
          ]
        }
      ]
    },
    {
      "cell_type": "markdown",
      "source": [
        "Data Analysis"
      ],
      "metadata": {
        "id": "GVf_S4gQysMa"
      },
      "id": "GVf_S4gQysMa"
    },
    {
      "cell_type": "code",
      "source": [
        "#Get some statistical measures about the data\n",
        "\n",
        "calories_ex.describe()"
      ],
      "metadata": {
        "colab": {
          "base_uri": "https://localhost:8080/",
          "height": 300
        },
        "id": "9bZn7XlLyvf1",
        "outputId": "be26dfef-7729-43af-c848-fa85d0829510"
      },
      "id": "9bZn7XlLyvf1",
      "execution_count": 76,
      "outputs": [
        {
          "output_type": "execute_result",
          "data": {
            "text/plain": [
              "            User_ID           Age        Height        Weight      Duration  \\\n",
              "count  1.500000e+04  15000.000000  15000.000000  15000.000000  15000.000000   \n",
              "mean   1.497736e+07     42.789800    174.465133     74.966867     15.530600   \n",
              "std    2.872851e+06     16.980264     14.258114     15.035657      8.319203   \n",
              "min    1.000116e+07     20.000000    123.000000     36.000000      1.000000   \n",
              "25%    1.247419e+07     28.000000    164.000000     63.000000      8.000000   \n",
              "50%    1.499728e+07     39.000000    175.000000     74.000000     16.000000   \n",
              "75%    1.744928e+07     56.000000    185.000000     87.000000     23.000000   \n",
              "max    1.999965e+07     79.000000    222.000000    132.000000     30.000000   \n",
              "\n",
              "         Heart_Rate     Body_Temp      Calories  \n",
              "count  15000.000000  15000.000000  15000.000000  \n",
              "mean      95.518533     40.025453     89.539533  \n",
              "std        9.583328      0.779230     62.456978  \n",
              "min       67.000000     37.100000      1.000000  \n",
              "25%       88.000000     39.600000     35.000000  \n",
              "50%       96.000000     40.200000     79.000000  \n",
              "75%      103.000000     40.600000    138.000000  \n",
              "max      128.000000     41.500000    314.000000  "
            ],
            "text/html": [
              "\n",
              "  <div id=\"df-746ba75b-6c94-45bd-be27-01feee5b0c98\">\n",
              "    <div class=\"colab-df-container\">\n",
              "      <div>\n",
              "<style scoped>\n",
              "    .dataframe tbody tr th:only-of-type {\n",
              "        vertical-align: middle;\n",
              "    }\n",
              "\n",
              "    .dataframe tbody tr th {\n",
              "        vertical-align: top;\n",
              "    }\n",
              "\n",
              "    .dataframe thead th {\n",
              "        text-align: right;\n",
              "    }\n",
              "</style>\n",
              "<table border=\"1\" class=\"dataframe\">\n",
              "  <thead>\n",
              "    <tr style=\"text-align: right;\">\n",
              "      <th></th>\n",
              "      <th>User_ID</th>\n",
              "      <th>Age</th>\n",
              "      <th>Height</th>\n",
              "      <th>Weight</th>\n",
              "      <th>Duration</th>\n",
              "      <th>Heart_Rate</th>\n",
              "      <th>Body_Temp</th>\n",
              "      <th>Calories</th>\n",
              "    </tr>\n",
              "  </thead>\n",
              "  <tbody>\n",
              "    <tr>\n",
              "      <th>count</th>\n",
              "      <td>1.500000e+04</td>\n",
              "      <td>15000.000000</td>\n",
              "      <td>15000.000000</td>\n",
              "      <td>15000.000000</td>\n",
              "      <td>15000.000000</td>\n",
              "      <td>15000.000000</td>\n",
              "      <td>15000.000000</td>\n",
              "      <td>15000.000000</td>\n",
              "    </tr>\n",
              "    <tr>\n",
              "      <th>mean</th>\n",
              "      <td>1.497736e+07</td>\n",
              "      <td>42.789800</td>\n",
              "      <td>174.465133</td>\n",
              "      <td>74.966867</td>\n",
              "      <td>15.530600</td>\n",
              "      <td>95.518533</td>\n",
              "      <td>40.025453</td>\n",
              "      <td>89.539533</td>\n",
              "    </tr>\n",
              "    <tr>\n",
              "      <th>std</th>\n",
              "      <td>2.872851e+06</td>\n",
              "      <td>16.980264</td>\n",
              "      <td>14.258114</td>\n",
              "      <td>15.035657</td>\n",
              "      <td>8.319203</td>\n",
              "      <td>9.583328</td>\n",
              "      <td>0.779230</td>\n",
              "      <td>62.456978</td>\n",
              "    </tr>\n",
              "    <tr>\n",
              "      <th>min</th>\n",
              "      <td>1.000116e+07</td>\n",
              "      <td>20.000000</td>\n",
              "      <td>123.000000</td>\n",
              "      <td>36.000000</td>\n",
              "      <td>1.000000</td>\n",
              "      <td>67.000000</td>\n",
              "      <td>37.100000</td>\n",
              "      <td>1.000000</td>\n",
              "    </tr>\n",
              "    <tr>\n",
              "      <th>25%</th>\n",
              "      <td>1.247419e+07</td>\n",
              "      <td>28.000000</td>\n",
              "      <td>164.000000</td>\n",
              "      <td>63.000000</td>\n",
              "      <td>8.000000</td>\n",
              "      <td>88.000000</td>\n",
              "      <td>39.600000</td>\n",
              "      <td>35.000000</td>\n",
              "    </tr>\n",
              "    <tr>\n",
              "      <th>50%</th>\n",
              "      <td>1.499728e+07</td>\n",
              "      <td>39.000000</td>\n",
              "      <td>175.000000</td>\n",
              "      <td>74.000000</td>\n",
              "      <td>16.000000</td>\n",
              "      <td>96.000000</td>\n",
              "      <td>40.200000</td>\n",
              "      <td>79.000000</td>\n",
              "    </tr>\n",
              "    <tr>\n",
              "      <th>75%</th>\n",
              "      <td>1.744928e+07</td>\n",
              "      <td>56.000000</td>\n",
              "      <td>185.000000</td>\n",
              "      <td>87.000000</td>\n",
              "      <td>23.000000</td>\n",
              "      <td>103.000000</td>\n",
              "      <td>40.600000</td>\n",
              "      <td>138.000000</td>\n",
              "    </tr>\n",
              "    <tr>\n",
              "      <th>max</th>\n",
              "      <td>1.999965e+07</td>\n",
              "      <td>79.000000</td>\n",
              "      <td>222.000000</td>\n",
              "      <td>132.000000</td>\n",
              "      <td>30.000000</td>\n",
              "      <td>128.000000</td>\n",
              "      <td>41.500000</td>\n",
              "      <td>314.000000</td>\n",
              "    </tr>\n",
              "  </tbody>\n",
              "</table>\n",
              "</div>\n",
              "      <button class=\"colab-df-convert\" onclick=\"convertToInteractive('df-746ba75b-6c94-45bd-be27-01feee5b0c98')\"\n",
              "              title=\"Convert this dataframe to an interactive table.\"\n",
              "              style=\"display:none;\">\n",
              "        \n",
              "  <svg xmlns=\"http://www.w3.org/2000/svg\" height=\"24px\"viewBox=\"0 0 24 24\"\n",
              "       width=\"24px\">\n",
              "    <path d=\"M0 0h24v24H0V0z\" fill=\"none\"/>\n",
              "    <path d=\"M18.56 5.44l.94 2.06.94-2.06 2.06-.94-2.06-.94-.94-2.06-.94 2.06-2.06.94zm-11 1L8.5 8.5l.94-2.06 2.06-.94-2.06-.94L8.5 2.5l-.94 2.06-2.06.94zm10 10l.94 2.06.94-2.06 2.06-.94-2.06-.94-.94-2.06-.94 2.06-2.06.94z\"/><path d=\"M17.41 7.96l-1.37-1.37c-.4-.4-.92-.59-1.43-.59-.52 0-1.04.2-1.43.59L10.3 9.45l-7.72 7.72c-.78.78-.78 2.05 0 2.83L4 21.41c.39.39.9.59 1.41.59.51 0 1.02-.2 1.41-.59l7.78-7.78 2.81-2.81c.8-.78.8-2.07 0-2.86zM5.41 20L4 18.59l7.72-7.72 1.47 1.35L5.41 20z\"/>\n",
              "  </svg>\n",
              "      </button>\n",
              "      \n",
              "  <style>\n",
              "    .colab-df-container {\n",
              "      display:flex;\n",
              "      flex-wrap:wrap;\n",
              "      gap: 12px;\n",
              "    }\n",
              "\n",
              "    .colab-df-convert {\n",
              "      background-color: #E8F0FE;\n",
              "      border: none;\n",
              "      border-radius: 50%;\n",
              "      cursor: pointer;\n",
              "      display: none;\n",
              "      fill: #1967D2;\n",
              "      height: 32px;\n",
              "      padding: 0 0 0 0;\n",
              "      width: 32px;\n",
              "    }\n",
              "\n",
              "    .colab-df-convert:hover {\n",
              "      background-color: #E2EBFA;\n",
              "      box-shadow: 0px 1px 2px rgba(60, 64, 67, 0.3), 0px 1px 3px 1px rgba(60, 64, 67, 0.15);\n",
              "      fill: #174EA6;\n",
              "    }\n",
              "\n",
              "    [theme=dark] .colab-df-convert {\n",
              "      background-color: #3B4455;\n",
              "      fill: #D2E3FC;\n",
              "    }\n",
              "\n",
              "    [theme=dark] .colab-df-convert:hover {\n",
              "      background-color: #434B5C;\n",
              "      box-shadow: 0px 1px 3px 1px rgba(0, 0, 0, 0.15);\n",
              "      filter: drop-shadow(0px 1px 2px rgba(0, 0, 0, 0.3));\n",
              "      fill: #FFFFFF;\n",
              "    }\n",
              "  </style>\n",
              "\n",
              "      <script>\n",
              "        const buttonEl =\n",
              "          document.querySelector('#df-746ba75b-6c94-45bd-be27-01feee5b0c98 button.colab-df-convert');\n",
              "        buttonEl.style.display =\n",
              "          google.colab.kernel.accessAllowed ? 'block' : 'none';\n",
              "\n",
              "        async function convertToInteractive(key) {\n",
              "          const element = document.querySelector('#df-746ba75b-6c94-45bd-be27-01feee5b0c98');\n",
              "          const dataTable =\n",
              "            await google.colab.kernel.invokeFunction('convertToInteractive',\n",
              "                                                     [key], {});\n",
              "          if (!dataTable) return;\n",
              "\n",
              "          const docLinkHtml = 'Like what you see? Visit the ' +\n",
              "            '<a target=\"_blank\" href=https://colab.research.google.com/notebooks/data_table.ipynb>data table notebook</a>'\n",
              "            + ' to learn more about interactive tables.';\n",
              "          element.innerHTML = '';\n",
              "          dataTable['output_type'] = 'display_data';\n",
              "          await google.colab.output.renderOutput(dataTable, element);\n",
              "          const docLink = document.createElement('div');\n",
              "          docLink.innerHTML = docLinkHtml;\n",
              "          element.appendChild(docLink);\n",
              "        }\n",
              "      </script>\n",
              "    </div>\n",
              "  </div>\n",
              "  "
            ]
          },
          "metadata": {},
          "execution_count": 76
        }
      ]
    },
    {
      "cell_type": "markdown",
      "source": [
        "Data Visualization"
      ],
      "metadata": {
        "id": "BEiNkfSuy446"
      },
      "id": "BEiNkfSuy446"
    },
    {
      "cell_type": "code",
      "source": [
        "sns.set()"
      ],
      "metadata": {
        "id": "cSssjgwey-5f"
      },
      "id": "cSssjgwey-5f",
      "execution_count": 77,
      "outputs": []
    },
    {
      "cell_type": "code",
      "source": [
        "#Finding the distribution of \"Age\" column\n",
        "\n",
        "sns.distplot(calories_ex['Age'])"
      ],
      "metadata": {
        "colab": {
          "base_uri": "https://localhost:8080/",
          "height": 506
        },
        "id": "jxWkerIe2-kV",
        "outputId": "11c0fcdf-c76e-4058-e487-f660fad207c0"
      },
      "id": "jxWkerIe2-kV",
      "execution_count": 78,
      "outputs": [
        {
          "output_type": "stream",
          "name": "stderr",
          "text": [
            "<ipython-input-78-4f3f6325efcc>:3: UserWarning: \n",
            "\n",
            "`distplot` is a deprecated function and will be removed in seaborn v0.14.0.\n",
            "\n",
            "Please adapt your code to use either `displot` (a figure-level function with\n",
            "similar flexibility) or `histplot` (an axes-level function for histograms).\n",
            "\n",
            "For a guide to updating your code to use the new functions, please see\n",
            "https://gist.github.com/mwaskom/de44147ed2974457ad6372750bbe5751\n",
            "\n",
            "  sns.distplot(calories_ex['Age'])\n"
          ]
        },
        {
          "output_type": "execute_result",
          "data": {
            "text/plain": [
              "<Axes: xlabel='Age', ylabel='Density'>"
            ]
          },
          "metadata": {},
          "execution_count": 78
        },
        {
          "output_type": "display_data",
          "data": {
            "text/plain": [
              "<Figure size 432x288 with 1 Axes>"
            ],
            "image/png": "[encoded data removed]"
          },
          "metadata": {}
        }
      ]
    },
    {
      "cell_type": "code",
      "source": [
        "#Finding the distribution of \"Height\" column\n",
        "\n",
        "sns.distplot(calories_ex['Height'])"
      ],
      "metadata": {
        "colab": {
          "base_uri": "https://localhost:8080/",
          "height": 506
        },
        "id": "bJHXsYLGVKIX",
        "outputId": "109064e6-4d7c-4874-c2b5-e49603ece569"
      },
      "id": "bJHXsYLGVKIX",
      "execution_count": 79,
      "outputs": [
        {
          "output_type": "stream",
          "name": "stderr",
          "text": [
            "<ipython-input-79-b52205528459>:3: UserWarning: \n",
            "\n",
            "`distplot` is a deprecated function and will be removed in seaborn v0.14.0.\n",
            "\n",
            "Please adapt your code to use either `displot` (a figure-level function with\n",
            "similar flexibility) or `histplot` (an axes-level function for histograms).\n",
            "\n",
            "For a guide to updating your code to use the new functions, please see\n",
            "https://gist.github.com/mwaskom/de44147ed2974457ad6372750bbe5751\n",
            "\n",
            "  sns.distplot(calories_ex['Height'])\n"
          ]
        },
        {
          "output_type": "execute_result",
          "data": {
            "text/plain": [
              "<Axes: xlabel='Height', ylabel='Density'>"
            ]
          },
          "metadata": {},
          "execution_count": 79
        },
        {
          "output_type": "display_data",
          "data": {
            "text/plain": [
              "<Figure size 432x288 with 1 Axes>"
            ],
            "image/png": "[encoded data removed]"
          },
          "metadata": {}
        }
      ]
    },
    {
      "cell_type": "code",
      "source": [
        "#Finding the distribution of \"Weight\" column\n",
        "\n",
        "sns.distplot(calories_ex['Weight'])"
      ],
      "metadata": {
        "colab": {
          "base_uri": "https://localhost:8080/",
          "height": 506
        },
        "id": "r4FPNiftVazE",
        "outputId": "f9e300ba-462f-45ed-b1ad-0c316790fe9d"
      },
      "id": "r4FPNiftVazE",
      "execution_count": 80,
      "outputs": [
        {
          "output_type": "stream",
          "name": "stderr",
          "text": [
            "<ipython-input-80-e46b4dbd523a>:3: UserWarning: \n",
            "\n",
            "`distplot` is a deprecated function and will be removed in seaborn v0.14.0.\n",
            "\n",
            "Please adapt your code to use either `displot` (a figure-level function with\n",
            "similar flexibility) or `histplot` (an axes-level function for histograms).\n",
            "\n",
            "For a guide to updating your code to use the new functions, please see\n",
            "https://gist.github.com/mwaskom/de44147ed2974457ad6372750bbe5751\n",
            "\n",
            "  sns.distplot(calories_ex['Weight'])\n"
          ]
        },
        {
          "output_type": "execute_result",
          "data": {
            "text/plain": [
              "<Axes: xlabel='Weight', ylabel='Density'>"
            ]
          },
          "metadata": {},
          "execution_count": 80
        },
        {
          "output_type": "display_data",
          "data": {
            "text/plain": [
              "<Figure size 432x288 with 1 Axes>"
            ],
            "image/png": "[encoded data removed]"
          },
          "metadata": {}
        }
      ]
    },
    {
      "cell_type": "code",
      "source": [
        "#Plotting the gender column in histplot\n",
        "\n",
        "sns.histplot(calories_ex['Gender'])"
      ],
      "metadata": {
        "colab": {
          "base_uri": "https://localhost:8080/",
          "height": 303
        },
        "id": "FensPz__6_gk",
        "outputId": "e9902d44-0f37-4005-cf90-61a956735989"
      },
      "id": "FensPz__6_gk",
      "execution_count": 81,
      "outputs": [
        {
          "output_type": "execute_result",
          "data": {
            "text/plain": [
              "<Axes: xlabel='Gender', ylabel='Count'>"
            ]
          },
          "metadata": {},
          "execution_count": 81
        },
        {
          "output_type": "display_data",
          "data": {
            "text/plain": [
              "<Figure size 432x288 with 1 Axes>"
            ],
            "image/png": "[encoded data removed]"
          },
          "metadata": {}
        }
      ]
    },
    {
      "cell_type": "markdown",
      "source": [
        "Finding the Correlation in the dataset"
      ],
      "metadata": {
        "id": "0ydA1XzR8_We"
      },
      "id": "0ydA1XzR8_We"
    },
    {
      "cell_type": "code",
      "source": [
        "correlation = calories_ex.corr()"
      ],
      "metadata": {
        "id": "E3u8ClFC9C-x"
      },
      "id": "E3u8ClFC9C-x",
      "execution_count": 82,
      "outputs": []
    },
    {
      "cell_type": "code",
      "source": [
        "#Constructing a heatmap to understand the correlation\n",
        "\n",
        "plt.figure(figsize=(10,10))\n",
        "sns.heatmap(correlation, cbar=True, square=True, fmt='.1f', annot=True, annot_kws={'size':8}, cmap='Blues')\n"
      ],
      "metadata": {
        "colab": {
          "base_uri": "https://localhost:8080/",
          "height": 620
        },
        "id": "WDWAKwdR9IEE",
        "outputId": "3b77873d-7925-4f2e-e3ef-a9d07481cb76"
      },
      "id": "WDWAKwdR9IEE",
      "execution_count": 83,
      "outputs": [
        {
          "output_type": "execute_result",
          "data": {
            "text/plain": [
              "<Axes: >"
            ]
          },
          "metadata": {},
          "execution_count": 83
        },
        {
          "output_type": "display_data",
          "data": {
            "text/plain": [
              "<Figure size 720x720 with 2 Axes>"
            ],
            "image/png": "[encoded data removed]"
          },
          "metadata": {}
        }
      ]
    },
    {
      "cell_type": "markdown",
      "source": [
        "Converting the text data to numerical values"
      ],
      "metadata": {
        "id": "_ZJjvnKp9jYJ"
      },
      "id": "_ZJjvnKp9jYJ"
    },
    {
      "cell_type": "code",
      "source": [
        "calories_ex.replace({\"Gender\":{'male':0,'female':1}}, inplace=True)"
      ],
      "metadata": {
        "id": "nBOAXp0n9p_N"
      },
      "id": "nBOAXp0n9p_N",
      "execution_count": 84,
      "outputs": []
    },
    {
      "cell_type": "code",
      "source": [
        "calories_ex.head()"
      ],
      "metadata": {
        "colab": {
          "base_uri": "https://localhost:8080/",
          "height": 206
        },
        "id": "mss69wxi9qvS",
        "outputId": "b79b696b-5a1f-448f-b9de-baec3c49f665"
      },
      "id": "mss69wxi9qvS",
      "execution_count": 85,
      "outputs": [
        {
          "output_type": "execute_result",
          "data": {
            "text/plain": [
              "    User_ID  Gender  Age  Height  Weight  Duration  Heart_Rate  Body_Temp  \\\n",
              "0  14733363       0   68   190.0    94.0      29.0       105.0       40.8   \n",
              "1  14861698       1   20   166.0    60.0      14.0        94.0       40.3   \n",
              "2  11179863       0   69   179.0    79.0       5.0        88.0       38.7   \n",
              "3  16180408       1   34   179.0    71.0      13.0       100.0       40.5   \n",
              "4  17771927       1   27   154.0    58.0      10.0        81.0       39.8   \n",
              "\n",
              "   Calories  \n",
              "0     231.0  \n",
              "1      66.0  \n",
              "2      26.0  \n",
              "3      71.0  \n",
              "4      35.0  "
            ],
            "text/html": [
              "\n",
              "  <div id=\"df-68d4e5d5-87e5-45ad-803c-5c4fd301ffe7\">\n",
              "    <div class=\"colab-df-container\">\n",
              "      <div>\n",
              "<style scoped>\n",
              "    .dataframe tbody tr th:only-of-type {\n",
              "        vertical-align: middle;\n",
              "    }\n",
              "\n",
              "    .dataframe tbody tr th {\n",
              "        vertical-align: top;\n",
              "    }\n",
              "\n",
              "    .dataframe thead th {\n",
              "        text-align: right;\n",
              "    }\n",
              "</style>\n",
              "<table border=\"1\" class=\"dataframe\">\n",
              "  <thead>\n",
              "    <tr style=\"text-align: right;\">\n",
              "      <th></th>\n",
              "      <th>User_ID</th>\n",
              "      <th>Gender</th>\n",
              "      <th>Age</th>\n",
              "      <th>Height</th>\n",
              "      <th>Weight</th>\n",
              "      <th>Duration</th>\n",
              "      <th>Heart_Rate</th>\n",
              "      <th>Body_Temp</th>\n",
              "      <th>Calories</th>\n",
              "    </tr>\n",
              "  </thead>\n",
              "  <tbody>\n",
              "    <tr>\n",
              "      <th>0</th>\n",
              "      <td>14733363</td>\n",
              "      <td>0</td>\n",
              "      <td>68</td>\n",
              "      <td>190.0</td>\n",
              "      <td>94.0</td>\n",
              "      <td>29.0</td>\n",
              "      <td>105.0</td>\n",
              "      <td>40.8</td>\n",
              "      <td>231.0</td>\n",
              "    </tr>\n",
              "    <tr>\n",
              "      <th>1</th>\n",
              "      <td>14861698</td>\n",
              "      <td>1</td>\n",
              "      <td>20</td>\n",
              "      <td>166.0</td>\n",
              "      <td>60.0</td>\n",
              "      <td>14.0</td>\n",
              "      <td>94.0</td>\n",
              "      <td>40.3</td>\n",
              "      <td>66.0</td>\n",
              "    </tr>\n",
              "    <tr>\n",
              "      <th>2</th>\n",
              "      <td>11179863</td>\n",
              "      <td>0</td>\n",
              "      <td>69</td>\n",
              "      <td>179.0</td>\n",
              "      <td>79.0</td>\n",
              "      <td>5.0</td>\n",
              "      <td>88.0</td>\n",
              "      <td>38.7</td>\n",
              "      <td>26.0</td>\n",
              "    </tr>\n",
              "    <tr>\n",
              "      <th>3</th>\n",
              "      <td>16180408</td>\n",
              "      <td>1</td>\n",
              "      <td>34</td>\n",
              "      <td>179.0</td>\n",
              "      <td>71.0</td>\n",
              "      <td>13.0</td>\n",
              "      <td>100.0</td>\n",
              "      <td>40.5</td>\n",
              "      <td>71.0</td>\n",
              "    </tr>\n",
              "    <tr>\n",
              "      <th>4</th>\n",
              "      <td>17771927</td>\n",
              "      <td>1</td>\n",
              "      <td>27</td>\n",
              "      <td>154.0</td>\n",
              "      <td>58.0</td>\n",
              "      <td>10.0</td>\n",
              "      <td>81.0</td>\n",
              "      <td>39.8</td>\n",
              "      <td>35.0</td>\n",
              "    </tr>\n",
              "  </tbody>\n",
              "</table>\n",
              "</div>\n",
              "      <button class=\"colab-df-convert\" onclick=\"convertToInteractive('df-68d4e5d5-87e5-45ad-803c-5c4fd301ffe7')\"\n",
              "              title=\"Convert this dataframe to an interactive table.\"\n",
              "              style=\"display:none;\">\n",
              "        \n",
              "  <svg xmlns=\"http://www.w3.org/2000/svg\" height=\"24px\"viewBox=\"0 0 24 24\"\n",
              "       width=\"24px\">\n",
              "    <path d=\"M0 0h24v24H0V0z\" fill=\"none\"/>\n",
              "    <path d=\"M18.56 5.44l.94 2.06.94-2.06 2.06-.94-2.06-.94-.94-2.06-.94 2.06-2.06.94zm-11 1L8.5 8.5l.94-2.06 2.06-.94-2.06-.94L8.5 2.5l-.94 2.06-2.06.94zm10 10l.94 2.06.94-2.06 2.06-.94-2.06-.94-.94-2.06-.94 2.06-2.06.94z\"/><path d=\"M17.41 7.96l-1.37-1.37c-.4-.4-.92-.59-1.43-.59-.52 0-1.04.2-1.43.59L10.3 9.45l-7.72 7.72c-.78.78-.78 2.05 0 2.83L4 21.41c.39.39.9.59 1.41.59.51 0 1.02-.2 1.41-.59l7.78-7.78 2.81-2.81c.8-.78.8-2.07 0-2.86zM5.41 20L4 18.59l7.72-7.72 1.47 1.35L5.41 20z\"/>\n",
              "  </svg>\n",
              "      </button>\n",
              "      \n",
              "  <style>\n",
              "    .colab-df-container {\n",
              "      display:flex;\n",
              "      flex-wrap:wrap;\n",
              "      gap: 12px;\n",
              "    }\n",
              "\n",
              "    .colab-df-convert {\n",
              "      background-color: #E8F0FE;\n",
              "      border: none;\n",
              "      border-radius: 50%;\n",
              "      cursor: pointer;\n",
              "      display: none;\n",
              "      fill: #1967D2;\n",
              "      height: 32px;\n",
              "      padding: 0 0 0 0;\n",
              "      width: 32px;\n",
              "    }\n",
              "\n",
              "    .colab-df-convert:hover {\n",
              "      background-color: #E2EBFA;\n",
              "      box-shadow: 0px 1px 2px rgba(60, 64, 67, 0.3), 0px 1px 3px 1px rgba(60, 64, 67, 0.15);\n",
              "      fill: #174EA6;\n",
              "    }\n",
              "\n",
              "    [theme=dark] .colab-df-convert {\n",
              "      background-color: #3B4455;\n",
              "      fill: #D2E3FC;\n",
              "    }\n",
              "\n",
              "    [theme=dark] .colab-df-convert:hover {\n",
              "      background-color: #434B5C;\n",
              "      box-shadow: 0px 1px 3px 1px rgba(0, 0, 0, 0.15);\n",
              "      filter: drop-shadow(0px 1px 2px rgba(0, 0, 0, 0.3));\n",
              "      fill: #FFFFFF;\n",
              "    }\n",
              "  </style>\n",
              "\n",
              "      <script>\n",
              "        const buttonEl =\n",
              "          document.querySelector('#df-68d4e5d5-87e5-45ad-803c-5c4fd301ffe7 button.colab-df-convert');\n",
              "        buttonEl.style.display =\n",
              "          google.colab.kernel.accessAllowed ? 'block' : 'none';\n",
              "\n",
              "        async function convertToInteractive(key) {\n",
              "          const element = document.querySelector('#df-68d4e5d5-87e5-45ad-803c-5c4fd301ffe7');\n",
              "          const dataTable =\n",
              "            await google.colab.kernel.invokeFunction('convertToInteractive',\n",
              "                                                     [key], {});\n",
              "          if (!dataTable) return;\n",
              "\n",
              "          const docLinkHtml = 'Like what you see? Visit the ' +\n",
              "            '<a target=\"_blank\" href=https://colab.research.google.com/notebooks/data_table.ipynb>data table notebook</a>'\n",
              "            + ' to learn more about interactive tables.';\n",
              "          element.innerHTML = '';\n",
              "          dataTable['output_type'] = 'display_data';\n",
              "          await google.colab.output.renderOutput(dataTable, element);\n",
              "          const docLink = document.createElement('div');\n",
              "          docLink.innerHTML = docLinkHtml;\n",
              "          element.appendChild(docLink);\n",
              "        }\n",
              "      </script>\n",
              "    </div>\n",
              "  </div>\n",
              "  "
            ]
          },
          "metadata": {},
          "execution_count": 85
        }
      ]
    },
    {
      "cell_type": "markdown",
      "source": [
        "Separating features and Target"
      ],
      "metadata": {
        "id": "6ycAdh-j98z0"
      },
      "id": "6ycAdh-j98z0"
    },
    {
      "cell_type": "code",
      "source": [
        "X= calories_ex.drop(columns=['User_ID','Calories'], axis=1)\n",
        "Y= calories_ex['Calories']\n",
        "print(X)\n",
        "print(Y)"
      ],
      "metadata": {
        "colab": {
          "base_uri": "https://localhost:8080/"
        },
        "id": "Ngew3GE7-A1F",
        "outputId": "132668a0-e95f-4ec8-843a-324e6b76f6e9"
      },
      "id": "Ngew3GE7-A1F",
      "execution_count": 86,
      "outputs": [
        {
          "output_type": "stream",
          "name": "stdout",
          "text": [
            "       Gender  Age  Height  Weight  Duration  Heart_Rate  Body_Temp\n",
            "0           0   68   190.0    94.0      29.0       105.0       40.8\n",
            "1           1   20   166.0    60.0      14.0        94.0       40.3\n",
            "2           0   69   179.0    79.0       5.0        88.0       38.7\n",
            "3           1   34   179.0    71.0      13.0       100.0       40.5\n",
            "4           1   27   154.0    58.0      10.0        81.0       39.8\n",
            "...       ...  ...     ...     ...       ...         ...        ...\n",
            "14995       1   20   193.0    86.0      11.0        92.0       40.4\n",
            "14996       1   27   165.0    65.0       6.0        85.0       39.2\n",
            "14997       1   43   159.0    58.0      16.0        90.0       40.1\n",
            "14998       0   78   193.0    97.0       2.0        84.0       38.3\n",
            "14999       0   63   173.0    79.0      18.0        92.0       40.5\n",
            "\n",
            "[15000 rows x 7 columns]\n",
            "0        231.0\n",
            "1         66.0\n",
            "2         26.0\n",
            "3         71.0\n",
            "4         35.0\n",
            "         ...  \n",
            "14995     45.0\n",
            "14996     23.0\n",
            "14997     75.0\n",
            "14998     11.0\n",
            "14999     98.0\n",
            "Name: Calories, Length: 15000, dtype: float64\n"
          ]
        }
      ]
    },
    {
      "cell_type": "markdown",
      "source": [
        "Splitting the data into training data and Test data"
      ],
      "metadata": {
        "id": "RXcLIGn1-a_m"
      },
      "id": "RXcLIGn1-a_m"
    },
    {
      "cell_type": "code",
      "source": [
        "X_train, X_test, Y_train, Y_test = train_test_split(X, Y, test_size=0.2, random_state=2)\n",
        "print(X.shape,Y.shape,X_train.shape, X_test.shape,Y_train.shape,Y_test.shape)"
      ],
      "metadata": {
        "colab": {
          "base_uri": "https://localhost:8080/"
        },
        "id": "KIG0EkY1-cGx",
        "outputId": "ae521300-8701-421e-c320-b1998895931f"
      },
      "id": "KIG0EkY1-cGx",
      "execution_count": 87,
      "outputs": [
        {
          "output_type": "stream",
          "name": "stdout",
          "text": [
            "(15000, 7) (15000,) (12000, 7) (3000, 7) (12000,) (3000,)\n"
          ]
        }
      ]
    },
    {
      "cell_type": "markdown",
      "source": [
        "Model-1 Training\n",
        "\n",
        "**XGBoost Regressor**"
      ],
      "metadata": {
        "id": "Vf3KoD50-8XN"
      },
      "id": "Vf3KoD50-8XN"
    },
    {
      "cell_type": "code",
      "source": [
        "# loading the model\n",
        "\n",
        "model_1= XGBRegressor()\n",
        "print(model_1)"
      ],
      "metadata": {
        "colab": {
          "base_uri": "https://localhost:8080/"
        },
        "id": "kOLi6KY1-9Oj",
        "outputId": "1bee3fd8-f4c2-4fb2-8ef1-7ffad27df911"
      },
      "id": "kOLi6KY1-9Oj",
      "execution_count": 88,
      "outputs": [
        {
          "output_type": "stream",
          "name": "stdout",
          "text": [
            "XGBRegressor(base_score=None, booster=None, callbacks=None,\n",
            "             colsample_bylevel=None, colsample_bynode=None,\n",
            "             colsample_bytree=None, early_stopping_rounds=None,\n",
            "             enable_categorical=False, eval_metric=None, feature_types=None,\n",
            "             gamma=None, gpu_id=None, grow_policy=None, importance_type=None,\n",
            "             interaction_constraints=None, learning_rate=None, max_bin=None,\n",
            "             max_cat_threshold=None, max_cat_to_onehot=None,\n",
            "             max_delta_step=None, max_depth=None, max_leaves=None,\n",
            "             min_child_weight=None, missing=nan, monotone_constraints=None,\n",
            "             n_estimators=100, n_jobs=None, num_parallel_tree=None,\n",
            "             predictor=None, random_state=None, ...)\n"
          ]
        }
      ]
    },
    {
      "cell_type": "markdown",
      "source": [
        "Evaluation on Train Data"
      ],
      "metadata": {
        "id": "HfWRZ6jHPOsL"
      },
      "id": "HfWRZ6jHPOsL"
    },
    {
      "cell_type": "code",
      "source": [
        "#Training the model with X_train,Y_train\n",
        "\n",
        "model_1.fit(X_train,Y_train)\n",
        "\n",
        "#Calculatiing Training Score\n",
        "\n",
        "score1=model_1.score(X_train,Y_train)*100\n",
        "print('Training Score is:',score1)\n"
      ],
      "metadata": {
        "colab": {
          "base_uri": "https://localhost:8080/"
        },
        "id": "Tm0ZKtzQ_GAw",
        "outputId": "ee3aa95c-979c-43b6-eb92-179a06a17fea"
      },
      "id": "Tm0ZKtzQ_GAw",
      "execution_count": 89,
      "outputs": [
        {
          "output_type": "stream",
          "name": "stdout",
          "text": [
            "Training Score is: 99.95517443430838\n"
          ]
        }
      ]
    },
    {
      "cell_type": "code",
      "source": [
        "#Calculatiing Cross Validation Mean Score\n",
        "\n",
        "cv_score1 = cross_val_score(model_1,X_train,Y_train,cv=10)\n",
        "c1=cv_score1.mean()\n",
        "print('Cross Validation Mean Score is:',c1)"
      ],
      "metadata": {
        "colab": {
          "base_uri": "https://localhost:8080/"
        },
        "id": "4nZecZADTjB6",
        "outputId": "c3b25c54-5706-4a4e-bc79-ac33b1b3ac6b"
      },
      "id": "4nZecZADTjB6",
      "execution_count": 90,
      "outputs": [
        {
          "output_type": "stream",
          "name": "stdout",
          "text": [
            "Cross Validation Mean Score is: 0.9987431450430962\n"
          ]
        }
      ]
    },
    {
      "cell_type": "markdown",
      "source": [
        "\n",
        "Evaluation & Prediction on Test Data\n",
        " "
      ],
      "metadata": {
        "id": "uvDDx1jJPw0_"
      },
      "id": "uvDDx1jJPw0_"
    },
    {
      "cell_type": "code",
      "source": [
        "#Calculating Mean Square Error & Root Mean Square Error\n",
        "\n",
        "ypred_xg=model_1.predict(X_test)\n",
        "print(ypred_xg)\n",
        "\n",
        "mse_1=mean_squared_error(Y_test,ypred_xg)\n",
        "print('Mean Square Error  is:\\n',mse_1)\n",
        "\n",
        "mse_r1=mse_1*(1/2.0)\n",
        "print('Root Mean Square Error  is:\\n',mse_r1)\n"
      ],
      "metadata": {
        "colab": {
          "base_uri": "https://localhost:8080/"
        },
        "id": "zuiQcRtbRN0J",
        "outputId": "33826683-83fd-471d-d8bb-f4113535f09f"
      },
      "id": "zuiQcRtbRN0J",
      "execution_count": 91,
      "outputs": [
        {
          "output_type": "stream",
          "name": "stdout",
          "text": [
            "[127.823784 226.00154   38.66253  ... 144.3636    22.767195  89.87375 ]\n",
            "Mean Square Error  is:\n",
            " 4.53426242569831\n",
            "Root Mean Square Error  is:\n",
            " 2.267131212849155\n"
          ]
        }
      ]
    },
    {
      "cell_type": "markdown",
      "source": [
        "Compare the Actual Values and Predicted Values in a Plot"
      ],
      "metadata": {
        "id": "Mdd6ksb8WBN3"
      },
      "id": "Mdd6ksb8WBN3"
    },
    {
      "cell_type": "code",
      "source": [
        "a_p=range(len(Y_test))\n",
        "plt.plot(a_p,Y_test,label='original')\n",
        "plt.plot(a_p,ypred_xg,label='predicted')\n",
        "plt.title('Calorie Burnt Actual vs Predicted of XGBoost Regressor')\n",
        "plt.xlabel('Count')\n",
        "plt.ylabel('Calories')\n",
        "plt.legend()\n",
        "plt.show()\n"
      ],
      "metadata": {
        "colab": {
          "base_uri": "https://localhost:8080/",
          "height": 301
        },
        "id": "lH3yzUU5Q2-G",
        "outputId": "6ab2d59e-64a2-4e58-bd31-27cdab0fe691"
      },
      "id": "lH3yzUU5Q2-G",
      "execution_count": 92,
      "outputs": [
        {
          "output_type": "display_data",
          "data": {
            "text/plain": [
              "<Figure size 432x288 with 1 Axes>"
            ],
            "image/png": "[encoded data removed]"
          },
          "metadata": {}
        }
      ]
    },
    {
      "cell_type": "markdown",
      "source": [
        "Model-2 Training\n",
        "\n",
        "**RandomForest Regressor**"
      ],
      "metadata": {
        "id": "Nkb_Zby15JP7"
      },
      "id": "Nkb_Zby15JP7"
    },
    {
      "cell_type": "code",
      "source": [
        "from sklearn.ensemble import RandomForestRegressor"
      ],
      "metadata": {
        "id": "MVH1Pw4uWGh7"
      },
      "id": "MVH1Pw4uWGh7",
      "execution_count": 93,
      "outputs": []
    },
    {
      "cell_type": "code",
      "source": [
        "# loading the model\n",
        "\n",
        "model_2=RandomForestRegressor(n_estimators=100, random_state=2)"
      ],
      "metadata": {
        "id": "NEvRBsUm5kZe"
      },
      "id": "NEvRBsUm5kZe",
      "execution_count": 94,
      "outputs": []
    },
    {
      "cell_type": "code",
      "source": [
        "# training the model with X_train,Y_train\n",
        "\n",
        "model_2.fit(X_train,Y_train)\n",
        "\n",
        "#Calculatiing Training Score\n",
        "\n",
        "score2=model_2.score(X_train,Y_train)*100\n",
        "print('Training Score is:',score2)\n"
      ],
      "metadata": {
        "colab": {
          "base_uri": "https://localhost:8080/"
        },
        "id": "zFbm-mMR7CtB",
        "outputId": "d2aec1a7-5d88-4b13-f0fb-ef36765763af"
      },
      "id": "zFbm-mMR7CtB",
      "execution_count": 95,
      "outputs": [
        {
          "output_type": "stream",
          "name": "stdout",
          "text": [
            "Training Score is: 99.96846721484614\n"
          ]
        }
      ]
    },
    {
      "cell_type": "code",
      "source": [
        "#Calculatiing Cross Validation Mean Score\n",
        "\n",
        "cv_score2 = cross_val_score(model_2,X_train,Y_train,cv=10)\n",
        "c2=cv_score2.mean()\n",
        "print('Cross Validation Mean Score is:',c2)"
      ],
      "metadata": {
        "colab": {
          "base_uri": "https://localhost:8080/"
        },
        "id": "AnhMohGo7Vd6",
        "outputId": "4174f75e-bfae-42d1-f9bf-9836f26067f6"
      },
      "id": "AnhMohGo7Vd6",
      "execution_count": 96,
      "outputs": [
        {
          "output_type": "stream",
          "name": "stdout",
          "text": [
            "Cross Validation Mean Score is: 0.9976635564240353\n"
          ]
        }
      ]
    },
    {
      "cell_type": "markdown",
      "source": [
        "Evaluation & Prediction on Test Data"
      ],
      "metadata": {
        "id": "sujpYrfd8BgH"
      },
      "id": "sujpYrfd8BgH"
    },
    {
      "cell_type": "code",
      "source": [
        "#Calculating Mean Square Error & Root Mean Square Error\n",
        "\n",
        "ypred_rf=model_2.predict(X_test)\n",
        "print(ypred_rf)\n",
        "mse_2=mean_squared_error(Y_test,ypred_rf)\n",
        "print('Mean Square Error  is:\\n',mse_2)\n",
        "mse_r2=mse_2*(1/2.0)\n",
        "print('Root Mean Square Error  is:\\n',mse_r2)\n"
      ],
      "metadata": {
        "colab": {
          "base_uri": "https://localhost:8080/"
        },
        "id": "4F-8542B7jHA",
        "outputId": "fa83366a-6312-4933-b7bf-e93d89d37fda"
      },
      "id": "4F-8542B7jHA",
      "execution_count": 97,
      "outputs": [
        {
          "output_type": "stream",
          "name": "stdout",
          "text": [
            "[128.32 225.53  36.74 ... 144.75  23.8   90.12]\n",
            "Mean Square Error  is:\n",
            " 6.954200666666666\n",
            "Root Mean Square Error  is:\n",
            " 3.477100333333333\n"
          ]
        }
      ]
    },
    {
      "cell_type": "markdown",
      "source": [
        "Compare the Actual Values and Predicted Values in a Plot"
      ],
      "metadata": {
        "id": "jO_xe3_c-a_p"
      },
      "id": "jO_xe3_c-a_p"
    },
    {
      "cell_type": "code",
      "source": [
        "a_p=range(len(Y_test))\n",
        "plt.plot(a_p,Y_test, color='blue', label = 'Actual Value')\n",
        "plt.plot(a_p,ypred_rf, color='green', label='Predicted Value')\n",
        "plt.title('Calorie Burnt Actual vs Predicted of RandomForest Regressor')\n",
        "plt.xlabel('Count')\n",
        "plt.ylabel('Calories')\n",
        "plt.legend()\n",
        "plt.show()"
      ],
      "metadata": {
        "colab": {
          "base_uri": "https://localhost:8080/",
          "height": 301
        },
        "id": "aIjvVCWi-rVi",
        "outputId": "dc8688dc-a5bc-4861-e61c-3f1c94791691"
      },
      "id": "aIjvVCWi-rVi",
      "execution_count": 98,
      "outputs": [
        {
          "output_type": "display_data",
          "data": {
            "text/plain": [
              "<Figure size 432x288 with 1 Axes>"
            ],
            "image/png": "[encoded data removed]"
          },
          "metadata": {}
        }
      ]
    },
    {
      "cell_type": "markdown",
      "source": [
        "Model-3 Training\n",
        "\n",
        "**Linear Regression**"
      ],
      "metadata": {
        "id": "YgcR9TQR0Bf-"
      },
      "id": "YgcR9TQR0Bf-"
    },
    {
      "cell_type": "code",
      "source": [
        "from sklearn.linear_model import LinearRegression"
      ],
      "metadata": {
        "id": "e13_NZVv1DE5"
      },
      "id": "e13_NZVv1DE5",
      "execution_count": 99,
      "outputs": []
    },
    {
      "cell_type": "code",
      "source": [
        "# loading the model\n",
        "\n",
        "model_3=LinearRegression()"
      ],
      "metadata": {
        "id": "4GzN-ktV1eA-"
      },
      "id": "4GzN-ktV1eA-",
      "execution_count": 100,
      "outputs": []
    },
    {
      "cell_type": "code",
      "source": [
        "# training the model with X_train,Y_train\n",
        "\n",
        "model_3.fit(X_train,Y_train)\n",
        "\n",
        "#Calculatiing Training Score\n",
        "\n",
        "score3=model_3.score(X_train,Y_train)*100\n",
        "print('Training Score is:',score3)"
      ],
      "metadata": {
        "colab": {
          "base_uri": "https://localhost:8080/"
        },
        "id": "IRQ5AHlW2Fe0",
        "outputId": "00864cb0-5b8b-4ab6-f3e4-a8b5635ec915"
      },
      "id": "IRQ5AHlW2Fe0",
      "execution_count": 101,
      "outputs": [
        {
          "output_type": "stream",
          "name": "stdout",
          "text": [
            "Training Score is: 96.72762198112508\n"
          ]
        }
      ]
    },
    {
      "cell_type": "code",
      "source": [
        "#Calculatiing Cross Validation Mean Score\n",
        "\n",
        "cv_score3 = cross_val_score(model_3,X_train,Y_train,cv=10)\n",
        "c3=cv_score3.mean()\n",
        "print('Cross Validation Mean Score is:',c3)"
      ],
      "metadata": {
        "colab": {
          "base_uri": "https://localhost:8080/"
        },
        "id": "vjR_dXQI37R6",
        "outputId": "6624ac95-a6db-4daf-a445-da78bf0f55f4"
      },
      "id": "vjR_dXQI37R6",
      "execution_count": 102,
      "outputs": [
        {
          "output_type": "stream",
          "name": "stdout",
          "text": [
            "Cross Validation Mean Score is: 0.9672122944841035\n"
          ]
        }
      ]
    },
    {
      "cell_type": "code",
      "source": [
        "#Calculating Mean Square Error & Root Mean Square Error\n",
        "\n",
        "ypred_ln=model_2.predict(X_test)\n",
        "print(ypred_ln)\n",
        "mse_3=mean_squared_error(Y_test,ypred_ln)\n",
        "print('Mean Square Error  is:\\n',mse_3)\n",
        "mse_r3=mse_3*(1/2.0)\n",
        "print('Root Mean Square Error  is:\\n',mse_r3)\n"
      ],
      "metadata": {
        "colab": {
          "base_uri": "https://localhost:8080/"
        },
        "id": "1OA1biME4MDY",
        "outputId": "bdc52f53-bfcf-4f78-88b1-d815458c396d"
      },
      "id": "1OA1biME4MDY",
      "execution_count": 103,
      "outputs": [
        {
          "output_type": "stream",
          "name": "stdout",
          "text": [
            "[128.32 225.53  36.74 ... 144.75  23.8   90.12]\n",
            "Mean Square Error  is:\n",
            " 6.954200666666666\n",
            "Root Mean Square Error  is:\n",
            " 3.477100333333333\n"
          ]
        }
      ]
    },
    {
      "cell_type": "markdown",
      "source": [
        "Compare the Actual Values and Predicted Values in a Plot"
      ],
      "metadata": {
        "id": "jQfiEHpS7WWN"
      },
      "id": "jQfiEHpS7WWN"
    },
    {
      "cell_type": "code",
      "source": [
        "a_p=range(len(Y_test))\n",
        "plt.plot(a_p,Y_test, color='yellow', label = 'Actual Value')\n",
        "plt.plot(a_p,ypred_ln, color='red', label='Predicted Value')\n",
        "plt.title('Calorie Burnt Actual vs Predicted of Linear Regression')\n",
        "plt.xlabel('Count')\n",
        "plt.ylabel('Calories')\n",
        "plt.legend()\n",
        "plt.show()"
      ],
      "metadata": {
        "colab": {
          "base_uri": "https://localhost:8080/",
          "height": 301
        },
        "id": "ka1dwp5o7Ym1",
        "outputId": "d525e2d0-9281-4346-ac00-482d211b7fef"
      },
      "id": "ka1dwp5o7Ym1",
      "execution_count": 104,
      "outputs": [
        {
          "output_type": "display_data",
          "data": {
            "text/plain": [
              "<Figure size 432x288 with 1 Axes>"
            ],
            "image/png": "[encoded data removed]"
          },
          "metadata": {}
        }
      ]
    },
    {
      "cell_type": "markdown",
      "source": [
        "Model-4 Training\n",
        "\n",
        "**KNeighbor Regressor**"
      ],
      "metadata": {
        "id": "Bgz1xr2_7yFt"
      },
      "id": "Bgz1xr2_7yFt"
    },
    {
      "cell_type": "code",
      "source": [
        "from sklearn.neighbors import KNeighborsRegressor"
      ],
      "metadata": {
        "id": "n5T2gjYm8Sn8"
      },
      "id": "n5T2gjYm8Sn8",
      "execution_count": 105,
      "outputs": []
    },
    {
      "cell_type": "code",
      "source": [
        "# loading the model\n",
        "\n",
        "model_4=KNeighborsRegressor(n_neighbors=5)"
      ],
      "metadata": {
        "id": "rtm4y63_8n8P"
      },
      "id": "rtm4y63_8n8P",
      "execution_count": 106,
      "outputs": []
    },
    {
      "cell_type": "code",
      "source": [
        "# training the model with X_train,Y_train\n",
        "\n",
        "model_4.fit(X_train,Y_train)\n",
        "\n",
        "#Calculatiing Training Score\n",
        "\n",
        "score4=model_4.score(X_train,Y_train)*100\n",
        "print('Training Score is:',score4)"
      ],
      "metadata": {
        "colab": {
          "base_uri": "https://localhost:8080/"
        },
        "id": "tS4elKbv9P8X",
        "outputId": "b5f029bf-79da-4620-f06f-6450c733edba"
      },
      "id": "tS4elKbv9P8X",
      "execution_count": 107,
      "outputs": [
        {
          "output_type": "stream",
          "name": "stdout",
          "text": [
            "Training Score is: 99.0970539148195\n"
          ]
        }
      ]
    },
    {
      "cell_type": "code",
      "source": [
        "#Calculatiing Cross Validation Mean Score\n",
        "\n",
        "cv_score4 = cross_val_score(model_4,X_train,Y_train,cv=10)\n",
        "c4=cv_score4.mean()\n",
        "print('Cross Validation Mean Score is:',cv_score4.mean())"
      ],
      "metadata": {
        "colab": {
          "base_uri": "https://localhost:8080/"
        },
        "id": "0Q2fY0oL9j_L",
        "outputId": "a0fd5e20-5a57-46a5-c4a7-495b9bff1921"
      },
      "id": "0Q2fY0oL9j_L",
      "execution_count": 108,
      "outputs": [
        {
          "output_type": "stream",
          "name": "stdout",
          "text": [
            "Cross Validation Mean Score is: 0.9862598997092389\n"
          ]
        }
      ]
    },
    {
      "cell_type": "markdown",
      "source": [
        "Evaluation & Prediction on Test Data"
      ],
      "metadata": {
        "id": "v13BbIe196T9"
      },
      "id": "v13BbIe196T9"
    },
    {
      "cell_type": "code",
      "source": [
        "#Calculating Mean Square Error & Root Mean Square Error\n",
        "\n",
        "ypred_kn=model_4.predict(X_test)\n",
        "print(ypred_kn)\n",
        "mse_4=mean_squared_error(Y_test,ypred_kn)\n",
        "print('Mean Square Error  is:\\n',mse_4)\n",
        "mse_r4=mse_4*(1/2.0)\n",
        "print('Root Mean Square Error  is:\\n',mse_r4)"
      ],
      "metadata": {
        "colab": {
          "base_uri": "https://localhost:8080/"
        },
        "id": "q11WQvDf97TP",
        "outputId": "77d4c945-271a-4218-ef3c-07185d412c54"
      },
      "id": "q11WQvDf97TP",
      "execution_count": 109,
      "outputs": [
        {
          "output_type": "stream",
          "name": "stdout",
          "text": [
            "[126.2 237.   47.6 ... 148.4  22.4  82.2]\n",
            "Mean Square Error  is:\n",
            " 51.460813333333334\n",
            "Root Mean Square Error  is:\n",
            " 25.730406666666667\n"
          ]
        }
      ]
    },
    {
      "cell_type": "markdown",
      "source": [
        "Compare the Actual Values and Predicted Values in a Plot"
      ],
      "metadata": {
        "id": "trtfRT6n-ZSm"
      },
      "id": "trtfRT6n-ZSm"
    },
    {
      "cell_type": "code",
      "source": [
        "a_p=range(len(Y_test))\n",
        "plt.plot(a_p,Y_test, color='cyan', label = 'Actual Value')\n",
        "plt.plot(a_p,ypred_kn, color='red', label='Predicted Value')\n",
        "plt.title('Calorie Burnt Actual vs Predicted of KNeighnor Regressor')\n",
        "plt.xlabel('Count')\n",
        "plt.ylabel('Calories')\n",
        "plt.legend()\n",
        "plt.show()"
      ],
      "metadata": {
        "colab": {
          "base_uri": "https://localhost:8080/",
          "height": 301
        },
        "id": "os74HjdX-ad1",
        "outputId": "ffc06357-b162-4aa9-c738-fb8edd17502b"
      },
      "id": "os74HjdX-ad1",
      "execution_count": 110,
      "outputs": [
        {
          "output_type": "display_data",
          "data": {
            "text/plain": [
              "<Figure size 432x288 with 1 Axes>"
            ],
            "image/png": "[encoded data removed]"
          },
          "metadata": {}
        }
      ]
    },
    {
      "cell_type": "markdown",
      "source": [
        "Model-5 Training\n",
        "\n",
        "**Support Vector Regressor**"
      ],
      "metadata": {
        "id": "p0niXNC8_jo5"
      },
      "id": "p0niXNC8_jo5"
    },
    {
      "cell_type": "code",
      "source": [
        "from sklearn.svm import SVR"
      ],
      "metadata": {
        "id": "i2gzy96H_sm3"
      },
      "id": "i2gzy96H_sm3",
      "execution_count": 111,
      "outputs": []
    },
    {
      "cell_type": "code",
      "source": [
        "# loading the model\n",
        "\n",
        "model_5=SVR(kernel='rbf')"
      ],
      "metadata": {
        "id": "3mZ8Rpxe__dR"
      },
      "id": "3mZ8Rpxe__dR",
      "execution_count": 112,
      "outputs": []
    },
    {
      "cell_type": "code",
      "source": [
        "# training the model with X_train,Y_train\n",
        "\n",
        "model_5.fit(X_train,Y_train)\n",
        "\n",
        "#Calculatiing Training Score\n",
        "\n",
        "score5=model_5.score(X_train,Y_train)*100\n",
        "print('Training Score is:',score5)"
      ],
      "metadata": {
        "colab": {
          "base_uri": "https://localhost:8080/"
        },
        "id": "mpXGvmwXAV-Y",
        "outputId": "f7ed096a-9162-4e0a-bf41-a100187f3013"
      },
      "id": "mpXGvmwXAV-Y",
      "execution_count": 113,
      "outputs": [
        {
          "output_type": "stream",
          "name": "stdout",
          "text": [
            "Training Score is: 93.96209873895998\n"
          ]
        }
      ]
    },
    {
      "cell_type": "code",
      "source": [
        "#Calculatiing Cross Validation Mean Score\n",
        "\n",
        "cv_score5 = cross_val_score(model_5,X_train,Y_train,cv=10)\n",
        "c5=cv_score5.mean()\n",
        "print('Cross Validation Mean Score is:',c5)"
      ],
      "metadata": {
        "colab": {
          "base_uri": "https://localhost:8080/"
        },
        "id": "2nHoRkRnAntA",
        "outputId": "ffd8e7f2-65ad-480c-d1b1-1d57c865009b"
      },
      "id": "2nHoRkRnAntA",
      "execution_count": 114,
      "outputs": [
        {
          "output_type": "stream",
          "name": "stdout",
          "text": [
            "Cross Validation Mean Score is: 0.9342191037681473\n"
          ]
        }
      ]
    },
    {
      "cell_type": "code",
      "source": [
        "#Calculating Mean Square Error & Root Mean Square Error\n",
        "\n",
        "ypred_svr=model_5.predict(X_test)\n",
        "print(ypred_svr)\n",
        "mse_5=mean_squared_error(Y_test,ypred_svr)\n",
        "print('Mean Square Error  is:\\n',mse_5)\n",
        "mse_r5=mse_5*(1/2.0)\n",
        "print('Root Mean Square Error  is:\\n',mse_r5)"
      ],
      "metadata": {
        "colab": {
          "base_uri": "https://localhost:8080/"
        },
        "id": "52rzUlq4BOiT",
        "outputId": "216d1cf1-9414-421f-edc3-40c08fca33ec"
      },
      "id": "52rzUlq4BOiT",
      "execution_count": 115,
      "outputs": [
        {
          "output_type": "stream",
          "name": "stdout",
          "text": [
            "[123.04017365 173.117781    56.41704389 ... 138.00300555  22.00311932\n",
            "  94.25110648]\n",
            "Mean Square Error  is:\n",
            " 243.29310231858554\n",
            "Root Mean Square Error  is:\n",
            " 121.64655115929277\n"
          ]
        }
      ]
    },
    {
      "cell_type": "code",
      "source": [
        "a_p=range(len(Y_test))\n",
        "plt.plot(a_p,Y_test, color='purple', label = 'Actual Value')\n",
        "plt.plot(a_p,ypred_svr, color='green', label='Predicted Value')\n",
        "plt.title('Calorie Burnt Actual vs Predicted of Support Vector Regressor')\n",
        "plt.xlabel('Count')\n",
        "plt.ylabel('Calories')\n",
        "plt.legend()\n",
        "plt.show()"
      ],
      "metadata": {
        "colab": {
          "base_uri": "https://localhost:8080/",
          "height": 301
        },
        "id": "ysxLwrGbBud3",
        "outputId": "19c3eb1a-8a7a-4f60-90f5-77556602b87f"
      },
      "id": "ysxLwrGbBud3",
      "execution_count": 116,
      "outputs": [
        {
          "output_type": "display_data",
          "data": {
            "text/plain": [
              "<Figure size 432x288 with 1 Axes>"
            ],
            "image/png": "[encoded data removed]"
          },
          "metadata": {}
        }
      ]
    },
    {
      "cell_type": "markdown",
      "source": [
        "Model-6 Training\n",
        "\n",
        "**DecisionTree Regressor**"
      ],
      "metadata": {
        "id": "_wqz-tVpCF9T"
      },
      "id": "_wqz-tVpCF9T"
    },
    {
      "cell_type": "code",
      "source": [
        "from sklearn.tree import DecisionTreeRegressor"
      ],
      "metadata": {
        "id": "tnMR-f-TC1Al"
      },
      "id": "tnMR-f-TC1Al",
      "execution_count": 117,
      "outputs": []
    },
    {
      "cell_type": "code",
      "source": [
        "# loading the model\n",
        "\n",
        "model_6=DecisionTreeRegressor()"
      ],
      "metadata": {
        "id": "-KClbYvMDZK_"
      },
      "id": "-KClbYvMDZK_",
      "execution_count": 118,
      "outputs": []
    },
    {
      "cell_type": "code",
      "source": [
        "# training the model with X_train,Y_train\n",
        "\n",
        "model_6.fit(X_train,Y_train)\n",
        "\n",
        "#Calculatiing Training Score\n",
        "\n",
        "score6=model_6.score(X_train,Y_train)*100\n",
        "print('Training Score is:',score6)"
      ],
      "metadata": {
        "colab": {
          "base_uri": "https://localhost:8080/"
        },
        "id": "WNcFgRpAQ0rG",
        "outputId": "9d42df7e-71c3-47ba-8d24-2435051ca6f4"
      },
      "id": "WNcFgRpAQ0rG",
      "execution_count": 119,
      "outputs": [
        {
          "output_type": "stream",
          "name": "stdout",
          "text": [
            "Training Score is: 100.0\n"
          ]
        }
      ]
    },
    {
      "cell_type": "code",
      "source": [
        "#Calculatiing Cross Validation Mean Score\n",
        "\n",
        "cv_score6 = cross_val_score(model_6,X_train,Y_train,cv=10)\n",
        "c6=cv_score6.mean()\n",
        "print('Cross Validation Mean Score is:',c6)"
      ],
      "metadata": {
        "colab": {
          "base_uri": "https://localhost:8080/"
        },
        "id": "W8W92ApHS5jS",
        "outputId": "b2bafc96-3675-4046-cf1b-9ff16db90a62"
      },
      "id": "W8W92ApHS5jS",
      "execution_count": 125,
      "outputs": [
        {
          "output_type": "stream",
          "name": "stdout",
          "text": [
            "Cross Validation Mean Score is: 0.992475879214228\n"
          ]
        }
      ]
    },
    {
      "cell_type": "code",
      "source": [
        "#Calculating Mean Square Error & Root Mean Square Error\n",
        "\n",
        "ypred_dc=model_6.predict(X_test)\n",
        "print(ypred_dc)\n",
        "mse_6=mean_squared_error(Y_test,ypred_dc)\n",
        "print('Mean Square Error  is:\\n',mse_6)\n",
        "mse_r6=mse_6*(1/2.0)\n",
        "print('Root Mean Square Error  is:\\n',mse_r6)"
      ],
      "metadata": {
        "colab": {
          "base_uri": "https://localhost:8080/"
        },
        "id": "deFMbqMBTNAr",
        "outputId": "b9448f78-c239-4fa6-9cff-1109e3b22b74"
      },
      "id": "deFMbqMBTNAr",
      "execution_count": 121,
      "outputs": [
        {
          "output_type": "stream",
          "name": "stdout",
          "text": [
            "[124. 220.  35. ... 154.  25.  91.]\n",
            "Mean Square Error  is:\n",
            " 27.503\n",
            "Root Mean Square Error  is:\n",
            " 13.7515\n"
          ]
        }
      ]
    },
    {
      "cell_type": "code",
      "source": [
        "a_p=range(len(Y_test))\n",
        "plt.plot(a_p,Y_test, color='red', label = 'Actual Value')\n",
        "plt.plot(a_p,ypred_dc, color='green', label='Predicted Value')\n",
        "plt.title('Calorie Burnt Actual vs Predicted of DecisionTree Regressor')\n",
        "plt.xlabel('Count')\n",
        "plt.ylabel('Calories')\n",
        "plt.legend()\n",
        "plt.show()"
      ],
      "metadata": {
        "colab": {
          "base_uri": "https://localhost:8080/",
          "height": 301
        },
        "id": "b-BcSVU43Gwx",
        "outputId": "a2f91dc9-a720-4276-bc66-751340bdcebe"
      },
      "id": "b-BcSVU43Gwx",
      "execution_count": 126,
      "outputs": [
        {
          "output_type": "display_data",
          "data": {
            "text/plain": [
              "<Figure size 432x288 with 1 Axes>"
            ],
            "image/png": "[encoded data removed]"
          },
          "metadata": {}
        }
      ]
    },
    {
      "cell_type": "code",
      "source": [
        "s_model=[score1,score2,score3,score4,score5,score6]\n",
        "color_code = ['r','c','b','y','g','purple']\n",
        "plt.bar(['XG\\nBoost\\n Regressor','Random \\nForest\\n Regressor','Linear \\nRegression','KNeighbor\\n Regresoor','Support\\n Vector\\n Regressor','DecisionTree \\nRegressor'],s_model,color = color_code)\n",
        "plt.title('Training Score of Models')\n",
        "plt.xlabel('Models')\n",
        "plt.ylabel('Training Score')\n",
        "plt.show()"
      ],
      "metadata": {
        "colab": {
          "base_uri": "https://localhost:8080/",
          "height": 324
        },
        "id": "Nm790hm9Wanb",
        "outputId": "833a64b5-8426-489b-9c8c-0c5e421bf8f9"
      },
      "id": "Nm790hm9Wanb",
      "execution_count": 122,
      "outputs": [
        {
          "output_type": "display_data",
          "data": {
            "text/plain": [
              "<Figure size 432x288 with 1 Axes>"
            ],
            "image/png": "[encoded data removed]"
          },
          "metadata": {}
        }
      ]
    },
    {
      "cell_type": "code",
      "source": [
        "c_model=[c1,c2,c3,c4,c5,c6]\n",
        "color_code = ['r','c','b','y','g','purple']\n",
        "plt.bar(['XG\\nBoost\\n Regressor','Random \\nForest\\n Regressor','Linear \\nRegression','KNeighbor\\n Regresoor','Support\\n Vector\\n Regressor','DecisionTree \\nRegressor'],c_model,color = color_code)\n",
        "plt.title('Cross Validation Mean Score of Models')\n",
        "plt.xlabel('Models')\n",
        "plt.ylabel('Cross Validation Mean Score')\n",
        "plt.show()"
      ],
      "metadata": {
        "colab": {
          "base_uri": "https://localhost:8080/",
          "height": 324
        },
        "outputId": "90fbb44c-2351-443e-a997-5dd817ce619b",
        "id": "oaTydAQPX3Dr"
      },
      "execution_count": 127,
      "outputs": [
        {
          "output_type": "display_data",
          "data": {
            "text/plain": [
              "<Figure size 432x288 with 1 Axes>"
            ],
            "image/png": "[encoded data removed]"
          },
          "metadata": {}
        }
      ],
      "id": "oaTydAQPX3Dr"
    },
    {
      "cell_type": "code",
      "source": [
        "rmse_model=[mse_1,mse_2,mse_3,mse_4,mse_5,mse_6]\n",
        "color_code = ['r','c','b','y','g','purple']\n",
        "plt.bar(['XG\\nBoost\\n Regressor','Random \\nForest\\n Regressor','Linear \\nRegression','KNeighbor\\n Regresoor','Support\\n Vector\\n Regressor','DecisionTree \\nRegressor'],rmse_model,color = color_code)\n",
        "plt.title('Mean Square Error of Models')\n",
        "plt.xlabel('Models')\n",
        "plt.ylabel('Mean Square Error')\n",
        "plt.show()\n"
      ],
      "metadata": {
        "colab": {
          "base_uri": "https://localhost:8080/",
          "height": 324
        },
        "id": "lrcjghMfL5D_",
        "outputId": "3c4f9427-c017-4d73-9cc6-ab186174317b"
      },
      "id": "lrcjghMfL5D_",
      "execution_count": 128,
      "outputs": [
        {
          "output_type": "display_data",
          "data": {
            "text/plain": [
              "<Figure size 432x288 with 1 Axes>"
            ],
            "image/png": "[encoded data removed]"
          },
          "metadata": {}
        }
      ]
    },
    {
      "cell_type": "code",
      "source": [
        "rmse_model=[mse_r1,mse_r2,mse_r3,mse_r4,mse_r5,mse_r6]\n",
        "color_code = ['r','c','b','y','g','purple']\n",
        "plt.bar(['XG\\nBoost\\n Regressor','Random \\nForest\\n Regressor','Linear \\nRegression','KNeighbor\\n Regresoor','Support\\n Vector\\n Regressor','DecisionTree \\nRegressor'],rmse_model,color = color_code)\n",
        "plt.title('Root Mean Square Error of Models')\n",
        "plt.xlabel('Models')\n",
        "plt.ylabel('Root Mean Square Error')\n",
        "plt.show()"
      ],
      "metadata": {
        "colab": {
          "base_uri": "https://localhost:8080/",
          "height": 324
        },
        "id": "aECqpB5zMshL",
        "outputId": "05cf365c-9f79-417d-a923-789a9c412d45"
      },
      "id": "aECqpB5zMshL",
      "execution_count": 129,
      "outputs": [
        {
          "output_type": "display_data",
          "data": {
            "text/plain": [
              "<Figure size 432x288 with 1 Axes>"
            ],
            "image/png": "[encoded data removed]"
          },
          "metadata": {}
        }
      ]
    },
    {
      "cell_type": "code",
      "source": [
        "X_p=['XG\\nBoost\\n Regressor','Random \\nForest\\n Regressor','Linear \\nRegression','KNeighbor\\n Regresoor','Support\\n Vector\\n Regressor','DecisionTree \\nRegressor']\n",
        "Y_p=[score1,score2,score3,score4,score5,score6]\n",
        "sns.histplot(x=X_p,y=Y_p)\n",
        "plt.xlabel('Models')\n",
        "plt.ylabel('Training Score of Models')\n",
        "plt.title(\"Model Vs Training Score \")\n",
        "plt.show()"
      ],
      "metadata": {
        "colab": {
          "base_uri": "https://localhost:8080/",
          "height": 324
        },
        "id": "uwXlGm_k3_0N",
        "outputId": "bd80a020-e77f-44e0-b976-358c281709ee"
      },
      "id": "uwXlGm_k3_0N",
      "execution_count": 132,
      "outputs": [
        {
          "output_type": "display_data",
          "data": {
            "text/plain": [
              "<Figure size 432x288 with 1 Axes>"
            ],
            "image/png": "[encoded data removed]"
          },
          "metadata": {}
        }
      ]
    },
    {
      "cell_type": "code",
      "source": [],
      "metadata": {
        "id": "3QX2cVi_4Z_i"
      },
      "id": "3QX2cVi_4Z_i",
      "execution_count": null,
      "outputs": []
    },
    {
      "cell_type": "code",
      "source": [
        "X_p=['XG\\nBoost\\n Regressor','Random \\nForest\\n Regressor','Linear \\nRegression','KNeighbor\\n Regresoor','Support\\n Vector\\n Regressor','DecisionTree \\nRegressor']\n",
        "Y_p=[c1,c2,c3,c4,c5,c6]\n",
        "sns.histplot(x=X_p,y=Y_p)\n",
        "plt.xlabel('Models')\n",
        "plt.ylabel('Cross Validation Mean Score of Models')\n",
        "plt.title(\"Model Vs Cross Validation Mean Score\")\n",
        "plt.show()"
      ],
      "metadata": {
        "colab": {
          "base_uri": "https://localhost:8080/",
          "height": 324
        },
        "id": "OB1XWgsN7nFT",
        "outputId": "c2c85199-58de-48dc-c67e-48a35ab0ae48"
      },
      "id": "OB1XWgsN7nFT",
      "execution_count": 133,
      "outputs": [
        {
          "output_type": "display_data",
          "data": {
            "text/plain": [
              "<Figure size 432x288 with 1 Axes>"
            ],
            "image/png": "[encoded data removed]"
          },
          "metadata": {}
        }
      ]
    },
    {
      "cell_type": "code",
      "source": [
        "X_p=['XG\\nBoost\\n Regressor','Random \\nForest\\n Regressor','Linear \\nRegression','KNeighbor\\n Regresoor','Support\\n Vector\\n Regressor','DecisionTree \\nRegressor']\n",
        "Y_p=[mse_r1,mse_r2,mse_r3,mse_r4,mse_r5,mse_r6]\n",
        "sns.histplot(x=X_p,y=Y_p)\n",
        "plt.xlabel('Models')\n",
        "plt.ylabel('Mean Square Error of Models')\n",
        "plt.title(\"Model Vs Mean Square Error \")\n",
        "plt.show()"
      ],
      "metadata": {
        "colab": {
          "base_uri": "https://localhost:8080/",
          "height": 324
        },
        "id": "a7e0XQtTAVz4",
        "outputId": "3bf26579-cc8e-4fd5-c0c7-f690773d0eed"
      },
      "id": "a7e0XQtTAVz4",
      "execution_count": 131,
      "outputs": [
        {
          "output_type": "display_data",
          "data": {
            "text/plain": [
              "<Figure size 432x288 with 1 Axes>"
            ],
            "image/png": "[encoded data removed]"
          },
          "metadata": {}
        }
      ]
    },
    {
      "cell_type": "markdown",
      "source": [
        "**Conclusion**"
      ],
      "metadata": {
        "id": "yXvJ8phvC-y_"
      },
      "id": "yXvJ8phvC-y_"
    },
    {
      "cell_type": "markdown",
      "source": [
        "Model-1\n",
        "\n",
        "**XGBoost Regressor**\n",
        "\n",
        "Mean Square Error  is **4.53426242569831**\n",
        " \n",
        "Root Mean Square Error  is **2.267131212849155**\n",
        " \n",
        "Training Score is **99.95517443430838**\n",
        "\n",
        "Cross Validation Mean Score is: **0.9987431450430962**"
      ],
      "metadata": {
        "id": "u7cPe_l7DPuw"
      },
      "id": "u7cPe_l7DPuw"
    },
    {
      "cell_type": "markdown",
      "source": [
        "Model-2\n",
        "\n",
        "**RabdomForest Regressor**\n",
        "\n",
        "Mean Square Error  is **6.954200666666666**\n",
        "\n",
        "Root Mean Square Error  is **3.477100333333333**\n",
        "\n",
        "Training Score is **99.96846721484614**\n",
        "\n",
        "Cross Validation Mean Score is **0.9976635564240353**"
      ],
      "metadata": {
        "id": "gAw3bpoGEE9x"
      },
      "id": "gAw3bpoGEE9x"
    },
    {
      "cell_type": "markdown",
      "source": [
        "Model-3\n",
        "\n",
        "**Linear Regression**\n",
        "\n",
        "Mean Square Error is **6.954200666666666**\n",
        "\n",
        "Root Mean Square Error is  **3.477100333333333**\n",
        "\n",
        "Training Score is **96.72762198112508**\n",
        "\n",
        "Cross Validation Mean Score is **0.9672122944841035**"
      ],
      "metadata": {
        "id": "oK5OV0AB6HYE"
      },
      "id": "oK5OV0AB6HYE"
    },
    {
      "cell_type": "markdown",
      "source": [
        "Model-4\n",
        "\n",
        "**KNeighnor Regressor**\n",
        "\n",
        "Mean Square Error is **51.460813333333334**\n",
        "\n",
        "Root Mean Square Error is **25.730406666666667**\n",
        "\n",
        "Training Score is **99.0970539148195**\n",
        "\n",
        "Cross Validation Mean Score is **0.9862598997092389**"
      ],
      "metadata": {
        "id": "Byt1I4ba7U2s"
      },
      "id": "Byt1I4ba7U2s"
    },
    {
      "cell_type": "markdown",
      "source": [
        "Model-5\n",
        "\n",
        "**Support Vector Regressor**\n",
        "\n",
        "Mean Square Error is **243.29310231858554**\n",
        "\n",
        "Root Mean Square Error is **121.64655115929277**\n",
        "\n",
        "Training Score is **93.96209873895998**\n",
        "\n",
        "Cross Validation Mean Score is **0.9342191037681473**"
      ],
      "metadata": {
        "id": "krE520Op812L"
      },
      "id": "krE520Op812L"
    },
    {
      "cell_type": "markdown",
      "source": [
        "Model-6\n",
        "\n",
        "**Decision Tree Regressor**\n",
        "\n",
        "Mean Square Error is **27.503**\n",
        "\n",
        "Root Mean Square Error is **13.7515**\n",
        "\n",
        "Training Score is **100.0**\n",
        "\n",
        "Cross Validation Mean Score is **0.992475879214228**"
      ],
      "metadata": {
        "id": "md983UWB-E-Q"
      },
      "id": "md983UWB-E-Q"
    },
    {
      "cell_type": "markdown",
      "source": [
        "When Comparing all Models Mean Square Error and Root Mean Square Error Values\n",
        "\n",
        "Model-1 has less Mean Square Error Value and Root Mean Square Error Value\n",
        "\n",
        "**Result:-**\n",
        "\n",
        "Model-1\n",
        "\n",
        "**XGBoost Regressor** fits correctly to this dataset\n",
        "\n"
      ],
      "metadata": {
        "id": "XOGeNI10EUC4"
      },
      "id": "XOGeNI10EUC4"
    }
  ],
  "metadata": {
    "kernelspec": {
      "display_name": "Python 3 (ipykernel)",
      "language": "python",
      "name": "python3"
    },
    "language_info": {
      "codemirror_mode": {
        "name": "ipython",
        "version": 3
      },
      "file_extension": ".py",
      "mimetype": "text/x-python",
      "name": "python",
      "nbconvert_exporter": "python",
      "pygments_lexer": "ipython3",
      "version": "3.9.13"
    },
    "colab": {
      "provenance": []
    }
  },
  "nbformat": 4,
  "nbformat_minor": 5
}